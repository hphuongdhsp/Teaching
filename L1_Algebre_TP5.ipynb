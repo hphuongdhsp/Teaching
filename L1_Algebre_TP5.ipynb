{
 "cells": [
  {
   "cell_type": "markdown",
   "metadata": {},
   "source": [
    "# TP 5: Rang d'une famille de vecteurs\n",
    "\n",
    "Soit $\\mathcal{F}=\\{v_1,\\ldots,v_k\\} $ une famille de vecteurs de $\\mathbb{R}^n$. On rappelle que le rang de $\\mathcal{F}$ est la dimension du sous-espace vectoriel $\\mathrm{Vect}(v_1,\\ldots,v_k)$ ou autrement dit le rang est le nombre maximal de vecteurs que peut contenir une sous-famille libre de $\\mathcal{F}$."
   ]
  },
  {
   "cell_type": "code",
   "execution_count": null,
   "metadata": {
    "collapsed": true
   },
   "outputs": [],
   "source": [
    "from numpy import *;\n",
    "from numpy.linalg import *;"
   ]
  },
  {
   "cell_type": "markdown",
   "metadata": {},
   "source": [
    "## Exercice 1.\n",
    "\n",
    "Ecrivez la fonction **libre_nn** qui prend en argument une liste de $n$ vecteurs de $\\mathbb{R}^n$ et qui à l'aide de la fonction **det** renvoie *\"Oui\"*, si la famille des $n$ vecteurs est libre, et *\"Non\"*, si ce n'est pas le cas.\n",
    "\n",
    "Testez votre fonction sur les familles de vecteurs suivantes:\n",
    "\n",
    "- $\\{(1,2), (3,4)\\}$\n",
    "\n",
    "- $\\{(1,2), (-1,-2)\\}$\n",
    "\n",
    "- $\\{(1,2,3), (0,3,4), (-1,2,1)\\}$\n",
    "\n",
    "- $\\{(1,2,1), (0,2,2), (1,1,0)\\}$"
   ]
  },
  {
   "cell_type": "code",
   "execution_count": null,
   "metadata": {
    "collapsed": false
   },
   "outputs": [],
   "source": []
  },
  {
   "cell_type": "markdown",
   "metadata": {},
   "source": [
    "## Exercice 2.\n",
    "\n",
    "Ecrivez la fonction **libre** qui prend en argument une liste de $k>0$ vecteurs de $\\mathbb{R}^n$ et qui à l'aide de la méthode du pivot de Gauss renvoie *\"Oui\"*, si la famille des $k$ vecteurs est libre, et *\"Non\"*, si ce n'est pas le cas.\n",
    "\n",
    "**Indication:** Si $k>n$, la famille est forcement liée. Sinon, d'abord on crée une matrice (*array*) qui a comme lignes les *k* vecteurs. Puis, on échelonne la matrice. Si la matrice échélonée qu'on obtient n'a pas de lignes nulles, la famille est libre.\n",
    "\n",
    "Voici les différentes commandes dont vous aurez peut-être besoin: \n",
    "Si $A$ est une matrice (les indices commencent par 0) :\n",
    "\n",
    "- A[i,j] renvoie le coefficient $a_{i,j}$,\n",
    "\n",
    "- A[i,:] renvoie la ligne $i$ de $A$,\n",
    "\n",
    "- A[i,:]=A[i,:]+a$*$ A[j,:] remplace la ligne $L_i$ par $L_i+aL_j$,\n",
    "\n",
    "- A[[i,j],:]=A[[j,i],:] échange les lignes $i$ et $j$."
   ]
  },
  {
   "cell_type": "code",
   "execution_count": null,
   "metadata": {
    "collapsed": false
   },
   "outputs": [],
   "source": []
  },
  {
   "cell_type": "markdown",
   "metadata": {},
   "source": [
    "Testez votre fonction sur les familles de l'exercice 1 ainsi que sur les familles suivantes:\n",
    "\n",
    "- $\\{(1,2,1), (0,2,2), (1,1,0), (1,1,1)\\}$\n",
    "\n",
    "- $\\{(1,2,1), (0,2,2)\\}$\n",
    "\n",
    "- $\\{(1,2,1), (2,4,2)\\}$"
   ]
  },
  {
   "cell_type": "code",
   "execution_count": null,
   "metadata": {
    "collapsed": false
   },
   "outputs": [],
   "source": [
    "print libre([[1.,2.],[3.,4.]])\n",
    "# print libre([[1.,2.],[-1.,-2.]])\n",
    "# print libre([[1.,2.,3.],[0.,3.,4.],[-1.,2.,1.]])\n",
    "# print libre([[1.,2.,1.],[0.,2.,2.],[1.,1.,0.]])\n",
    "# print libre([[1.,2.,1.],[0.,2.,2.],[1.,1.,0.],[1.,1.,1.]])\n",
    "# print libre([[1.,2.,1.],[0.,2.,2.]])\n",
    "# print libre([[1.,2.,1.],[2.,4.,2.]])"
   ]
  },
  {
   "cell_type": "markdown",
   "metadata": {},
   "source": [
    "## Exercice 3.\n",
    "\n",
    "Ecrivez la fonction **rang_vecteurs** qui prend en argument une liste de $k$ vecteurs de $\\mathbb{R}^n$ et qui à l'aide de la méthode du pivot de Gauss renvoie le rang de la famille des $k$ vecteurs.\n",
    "\n",
    "**Indication:** Vous pouvez utiliser comme base le code de la fonction **libre** de l'exercice 2. Le rang peut être vu comme le nombre de pivots (non nuls!) utilisés."
   ]
  },
  {
   "cell_type": "code",
   "execution_count": null,
   "metadata": {
    "collapsed": true
   },
   "outputs": [],
   "source": []
  },
  {
   "cell_type": "markdown",
   "metadata": {},
   "source": [
    "Testez votre fonction sur les familles de l'exercice 1 et l'exercice 2."
   ]
  },
  {
   "cell_type": "code",
   "execution_count": null,
   "metadata": {
    "collapsed": false
   },
   "outputs": [],
   "source": [
    "print rang_vecteurs([[1.,2.],[3.,4.]])\n",
    "# print rang_vecteurs([[1.,2.],[-1.,-2.]])\n",
    "# print rang_vecteurs([[1.,2.,3.],[0.,3.,4.],[-1.,2.,1.]])\n",
    "# print rang_vecteurs([[1.,2.,1.],[0.,2.,2.],[1.,1.,0.]])\n",
    "# print rang_vecteurs([[1.,2.,1.],[0.,2.,2.],[1.,1.,0.],[1.,1.,1.]])\n",
    "# print rang_vecteurs([[1.,2.,1.],[0.,2.,2.]])\n",
    "# print rang_vecteurs([[1.,2.,1.],[2.,4.,2.]])"
   ]
  },
  {
   "cell_type": "code",
   "execution_count": null,
   "metadata": {
    "collapsed": true
   },
   "outputs": [],
   "source": []
  }
 ],
 "metadata": {
  "kernelspec": {
   "display_name": "Python 2",
   "language": "python",
   "name": "python2"
  },
  "language_info": {
   "codemirror_mode": {
    "name": "ipython",
    "version": 2
   },
   "file_extension": ".py",
   "mimetype": "text/x-python",
   "name": "python",
   "nbconvert_exporter": "python",
   "pygments_lexer": "ipython2",
   "version": "2.7.11"
  }
 },
 "nbformat": 4,
 "nbformat_minor": 0
}
