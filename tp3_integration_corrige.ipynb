{
 "cells": [
  {
   "cell_type": "markdown",
   "metadata": {
    "deletable": true,
    "editable": true
   },
   "source": [
    "# Intégration numérique"
   ]
  },
  {
   "cell_type": "code",
   "execution_count": 1,
   "metadata": {
    "collapsed": false,
    "deletable": true,
    "editable": true
   },
   "outputs": [
    {
     "name": "stdout",
     "output_type": "stream",
     "text": [
      "Using matplotlib backend: Qt4Agg\n",
      "Populating the interactive namespace from numpy and matplotlib\n"
     ]
    }
   ],
   "source": [
    "%pylab"
   ]
  },
  {
   "cell_type": "markdown",
   "metadata": {
    "deletable": true,
    "editable": true
   },
   "source": [
    "# Programmation des 3 méthodes classiques : point milieu, trapèzes, Simpson"
   ]
  },
  {
   "cell_type": "markdown",
   "metadata": {
    "deletable": true,
    "editable": true
   },
   "source": [
    "Soient $a$ et $b$ deux réels tels que $a < b$ et $f$ une fonction continue sur $[a,b]$.\n",
    "\n",
    "Dans cette section , on cherche à comparer les 3 méthodes classiques d'intégration numérique décrites en cours pour approcher\n",
    "$$\n",
    "I(f,a,b) := \\int_a^b f(x) dx.\n",
    "$$\n",
    "\n",
    "Pour ce faire, on considère une subdivision $a = a_0 < a_1 < ... < a_n = b$ de $[a,b]$ avec \n",
    "$a_i = a+ih$ et $h = \\dfrac{b-a}{n}$."
   ]
  },
  {
   "cell_type": "markdown",
   "metadata": {
    "deletable": true,
    "editable": true
   },
   "source": [
    "## 1 - Méthode du point milieu\n",
    "\n",
    "On rappelle que la formule du point milieu composite pour approcher $I(f,a,b)$ est donnée par\n",
    "$$\n",
    "J_m^c(f,a,b,n) = \\dfrac{b-a}{n} \\sum_{j = 0}^{n-1} f\\left(\\dfrac{a_j+a_{j+1}}{2}\\right).\n",
    "$$"
   ]
  },
  {
   "cell_type": "markdown",
   "metadata": {
    "deletable": true,
    "editable": true
   },
   "source": [
    "Écrire une fonction **mil** qui, pour les entrées $f$ (la fonction à intégrer), $a$, $b$ (les bornes de l'intégrale) et $n$ (le nombre de sous-intervalles), retourne la valeur de $J_m^c(f,a,b,n)$ rappelée ci-dessus.\n",
    "\n",
    "On testera cette fonction pour approcher l'intégrale $\\int_0^1 e^x dx$ dont on connaît la valeur $I_e$."
   ]
  },
  {
   "cell_type": "code",
   "execution_count": 2,
   "metadata": {
    "collapsed": false,
    "deletable": true,
    "editable": true
   },
   "outputs": [
    {
     "name": "stdout",
     "output_type": "stream",
     "text": [
      "Valeur exacte de l'intégrale =  1.718281828459045\n",
      "Valeur approchée par la methode du rectangle au point milieu =  1.71756608646\n"
     ]
    }
   ],
   "source": [
    "def mil(f,a,b,n):\n",
    "    avec = linspace(a,b,n+1)\n",
    "    fmil = f((avec[0:n]+avec[1:n+1])/2.0)\n",
    "    Qm = sum(fmil)*(b-a)/float(n)\n",
    "    return Qm\n",
    "\n",
    "f = exp\n",
    "a = 0.0\n",
    "b = 1.0\n",
    "n = 10\n",
    "Qm = mil(f,a,b,n)\n",
    "print(\"Valeur exacte de l'intégrale = \",e-1)\n",
    "print(\"Valeur approchée par la methode du rectangle au point milieu = \",Qm)"
   ]
  },
  {
   "cell_type": "markdown",
   "metadata": {
    "deletable": true,
    "editable": true
   },
   "source": [
    "Dans cette question, on travaille avec la fonction $f = exp$, $a = 0$ et $b = 1$.\n",
    "\n",
    "Écrire les commandes nécessaires au tracé de l'évolution de l'erreur $$E_m(n) := \\Big|J_m^c(exp,0,1,n)-I_e\\Big|$$ en fonction de $n$. On fera varier $n$ de $1$ à $1000$."
   ]
  },
  {
   "cell_type": "code",
   "execution_count": 3,
   "metadata": {
    "collapsed": false,
    "deletable": true,
    "editable": true
   },
   "outputs": [],
   "source": [
    "f = exp\n",
    "a = 0.0\n",
    "b = 1.0\n",
    "Iexacte = e-1\n",
    "\n",
    "nmax = 10**3\n",
    "valn = range(1,nmax)\n",
    "Emn = zeros(len(valn))\n",
    "i = 0\n",
    "for n in valn:\n",
    "    Qmn = mil(f,a,b,n)\n",
    "    Emn[i] = abs(Qmn-Iexacte)\n",
    "    i = i+1\n",
    "figure(1)\n",
    "plot(valn,Emn)"
   ]
  },
  {
   "cell_type": "markdown",
   "metadata": {},
   "source": [
    "Reprendre la question précedente et faire le tracé en échelle logarithmique (commande *loglog*)."
   ]
  },
  {
   "cell_type": "code",
   "execution_count": 4,
   "metadata": {
    "collapsed": false
   },
   "outputs": [
    {
     "data": {
      "text/plain": [
       "[<matplotlib.lines.Line2D at 0xa6666d8>]"
      ]
     },
     "execution_count": 4,
     "metadata": {},
     "output_type": "execute_result"
    }
   ],
   "source": [
    "figure(11)\n",
    "loglog(valn,Emn)"
   ]
  },
  {
   "cell_type": "markdown",
   "metadata": {
    "deletable": true,
    "editable": true
   },
   "source": [
    "Quel est le comportement de l'erreur $E_m(n)$ ?\n",
    "\n",
    "Pour répondre à cette question, on pourra utiliser les notions suivantes : \n",
    "\n",
    "+ Si $E(n)$, $C$ et $\\alpha$ sont des quantités positives, on a \n",
    "$$\n",
    "E(n) \\sim \\dfrac{C}{n^\\alpha} \n",
    "\\Longleftrightarrow \n",
    "\\log\\Big(E(n)\\Big) \\sim \\log(C)-\\alpha \\log(n).\n",
    "$$\n",
    "\n",
    "+ En conséquence, si le tracé de $\\log\\Big(E(n)\\Big)$ en fonction de $\\log(n)$ est une droite, la pente de cette dernière donne $-\\alpha$.\n",
    "\n",
    "+ On rappelle que si $E(n) \\sim\\dfrac{C}{n^\\alpha}$, on dit que $E(n)$ est de l'ordre de  $\\dfrac{1}{n^\\alpha}.$"
   ]
  },
  {
   "cell_type": "code",
   "execution_count": 5,
   "metadata": {
    "collapsed": false,
    "deletable": true,
    "editable": true
   },
   "outputs": [
    {
     "name": "stdout",
     "output_type": "stream",
     "text": [
      "la pente de la droite obtenue ci-dessus est  -1.99582603292\n"
     ]
    }
   ],
   "source": [
    "pente = (log(Emn[-1])-log(Emn[0]))/(log(valn[-1])-log(valn[0]))\n",
    "print('la pente de la droite obtenue ci-dessus est ',pente)\n",
    "# on retrouve bien l'erreur théorique : E_m(n) est en 1/(n^2)"
   ]
  },
  {
   "cell_type": "markdown",
   "metadata": {
    "deletable": true,
    "editable": true
   },
   "source": [
    "## 2 - Méthode des trapèzes\n",
    "\n",
    "On rappelle que la formule des trapèzes composite pour approcher $I(f,a,b)$ est donnée par\n",
    "$$\n",
    "J_t^c(f,a,b,n) = \\dfrac{b-a}{2n} \\left( f(a) + f(b) + 2\\sum_{j = 1}^{n-1} f(a_j) \\right).\n",
    "$$"
   ]
  },
  {
   "cell_type": "markdown",
   "metadata": {
    "deletable": true,
    "editable": true
   },
   "source": [
    "Écrire une fonction **trap** qui, pour les entrées $f$, $a$, $b$ et $n$, retourne la valeur de $J_t^c(f,a,b,n)$ rappelée ci-dessus.\n",
    "\n",
    "On testera cette fonction pour approcher l'intégrale $\\int_0^1 e^x dx$ dont on connaît la valeur $I_e$."
   ]
  },
  {
   "cell_type": "code",
   "execution_count": 6,
   "metadata": {
    "collapsed": false,
    "deletable": true,
    "editable": true
   },
   "outputs": [
    {
     "name": "stdout",
     "output_type": "stream",
     "text": [
      "Valeur exacte de l'intégrale =  1.718281828459045\n",
      "Valeur approchée de l'intégrale par la méthode des trapèzes =  1.71971349139\n"
     ]
    }
   ],
   "source": [
    "def trap(f,a,b,n):\n",
    "    avec = linspace(a,b,n+1)\n",
    "    fvec = f(avec)\n",
    "    Qt = (fvec[0]+fvec[n] + 2*sum(fvec[1:n]))*(b-a)/(2*float(n))\n",
    "    return Qt\n",
    "\n",
    "f = exp\n",
    "a = 0.0\n",
    "b = 1.0\n",
    "n = 10\n",
    "Qt = trap(f,a,b,n)\n",
    "print(\"Valeur exacte de l'intégrale = \",e-1)\n",
    "print(\"Valeur approchée de l'intégrale par la méthode des trapèzes = \",Qt) "
   ]
  },
  {
   "cell_type": "markdown",
   "metadata": {
    "deletable": true,
    "editable": true
   },
   "source": [
    "Dans cette question, on travaille avec la fonction $f = exp$, $a = 0$ et $b = 1$.\n",
    "\n",
    "Écrire les commandes nécessaires au tracé, en échelle logarithmique, de l'évolution de l'erreur $$E_t(n) := \\Big|J_t^c(exp,0,1,n)-I_e\\Big|$$ en fonction de $n$. On fera varier $n$ de $1$ à $1000$."
   ]
  },
  {
   "cell_type": "code",
   "execution_count": 7,
   "metadata": {
    "collapsed": false,
    "deletable": true,
    "editable": true
   },
   "outputs": [
    {
     "data": {
      "text/plain": [
       "[<matplotlib.lines.Line2D at 0x9028390>]"
      ]
     },
     "execution_count": 7,
     "metadata": {},
     "output_type": "execute_result"
    }
   ],
   "source": [
    "f = exp\n",
    "a = 0.0\n",
    "b = 1.0\n",
    "Iexacte = e-1\n",
    "\n",
    "nmax = 10**3\n",
    "valn = range(1,nmax)\n",
    "Etn = zeros(len(valn))\n",
    "i = 0\n",
    "for n in valn:\n",
    "    Qtn = trap(f,a,b,n)\n",
    "    Etn[i] = abs(Qtn-Iexacte)\n",
    "    i = i+1\n",
    "\n",
    "figure(12)\n",
    "loglog(valn,Etn)"
   ]
  },
  {
   "cell_type": "markdown",
   "metadata": {
    "deletable": true,
    "editable": true
   },
   "source": [
    "Quel est le comportement de l'erreur $E_t(n)$ ?"
   ]
  },
  {
   "cell_type": "code",
   "execution_count": 8,
   "metadata": {
    "collapsed": false,
    "deletable": true,
    "editable": true
   },
   "outputs": [
    {
     "name": "stdout",
     "output_type": "stream",
     "text": [
      "la pente de la droite obtenue ci-dessus est  -1.99762356281\n"
     ]
    }
   ],
   "source": [
    "pente = (log(Etn[-1])-log(Etn[0]))/(log(valn[-1])-log(valn[0]))\n",
    "print('la pente de la droite obtenue ci-dessus est ',pente)\n",
    "# on retrouve bien l'erreur théorique : E_t(n) est en 1/(n^2)\n",
    "# Comme prévu par la théorie, on obtient la même pente pour la méthode des trapèzes \n",
    "# que pour la méthode du point milieu"
   ]
  },
  {
   "cell_type": "markdown",
   "metadata": {
    "deletable": true,
    "editable": true
   },
   "source": [
    "## 3 - Méthode de Simpson\n",
    "\n",
    "On rappelle que la formule de Simpson composite pour approcher $I(f,a,b)$ est donnée par\n",
    "$$\n",
    "\\begin{array}{rcl}\n",
    "J_s^c(f,a,b,n) & = \n",
    "& \\dfrac{b-a}{6n} \\left( f(a) + f(b) + 2\\sum_{j = 1}^{n-1} f(a_j) \n",
    "+ 4 \\sum_{j = 0}^{n-1} f\\left(\\dfrac{a_j+a_{j+1}}{2}\\right)\n",
    "\\right) \n",
    "\\\\\n",
    "& = \n",
    "& \\dfrac{1}{3} J_t^c(f,a,b,n) + \\dfrac{2}{3} J_m^c(f,a,b,n).\n",
    "\\end{array}\n",
    "$$"
   ]
  },
  {
   "cell_type": "markdown",
   "metadata": {
    "deletable": true,
    "editable": true
   },
   "source": [
    "Écrire une fonction **simp** qui, pour les entrées $f$, $a$, $b$ et $n$, retourne la valeur $J_s^c(f,a,b,n)$ rappelée ci-dessus.\n",
    "\n",
    "On testera cette fonction pour approcher l'intégrale $\\int_0^1 e^x dx$ dont on connaît la valeur $I_e$."
   ]
  },
  {
   "cell_type": "code",
   "execution_count": 9,
   "metadata": {
    "collapsed": false,
    "deletable": true,
    "editable": true
   },
   "outputs": [
    {
     "name": "stdout",
     "output_type": "stream",
     "text": [
      "Valeur exacte de l'intégrale =  1.718281828459045\n",
      "Valeur approchée de l'intégrale par la méthode de Simpson =  1.7182818881\n"
     ]
    }
   ],
   "source": [
    "def simp(f,a,b,n):\n",
    "    Qm = mil(f,a,b,n)\n",
    "    Qt = trap(f,a,b,n)\n",
    "    Qs = (Qt+2.0*Qm)/3.0\n",
    "    return Qs\n",
    "\n",
    "f = exp\n",
    "a = 0.0\n",
    "b = 1.0\n",
    "n = 10\n",
    "Qs = simp(f,a,b,n)\n",
    "print(\"Valeur exacte de l'intégrale = \",e-1) \n",
    "print(\"Valeur approchée de l'intégrale par la méthode de Simpson = \",Qs) "
   ]
  },
  {
   "cell_type": "markdown",
   "metadata": {
    "deletable": true,
    "editable": true
   },
   "source": [
    "Dans cette question, on travaille avec la fonction $f = exp$, $a = 0$ et $b = 1$.\n",
    "\n",
    "Écrire les commandes nécessaires au tracé, en échelle logarithmique, de l'évolution de l'erreur $$E_s(n) := \\Big|J_s^c(exp,0,1,n)-I_e\\Big|$$ en fonction de $n$. On fera varier $n$ de $1$ à $1000$."
   ]
  },
  {
   "cell_type": "code",
   "execution_count": 10,
   "metadata": {
    "collapsed": false,
    "deletable": true,
    "editable": true
   },
   "outputs": [
    {
     "data": {
      "text/plain": [
       "[<matplotlib.lines.Line2D at 0x9163dd8>]"
      ]
     },
     "execution_count": 10,
     "metadata": {},
     "output_type": "execute_result"
    }
   ],
   "source": [
    "f = exp\n",
    "a = 0.0\n",
    "b = 1.0\n",
    "Iexacte = e-1\n",
    "\n",
    "nmax = 10**3\n",
    "valn = range(1,nmax)\n",
    "Esn = zeros(len(valn))\n",
    "i = 0\n",
    "for n in valn:\n",
    "    Qsn = simp(f,a,b,n)\n",
    "    Esn[i] = abs(Qsn-Iexacte)\n",
    "    i = i+1\n",
    "figure(13)\n",
    "loglog(valn,Esn)"
   ]
  },
  {
   "cell_type": "markdown",
   "metadata": {
    "deletable": true,
    "editable": true
   },
   "source": [
    "Quel est le comportement de l'erreur $E_s(n)$ ?"
   ]
  },
  {
   "cell_type": "code",
   "execution_count": 11,
   "metadata": {
    "collapsed": false,
    "deletable": true,
    "editable": true
   },
   "outputs": [
    {
     "name": "stdout",
     "output_type": "stream",
     "text": [
      "la pente de la droite obtenue ci-dessus est  -3.98036303947\n"
     ]
    }
   ],
   "source": [
    "pente = (log(Esn[-1])-log(Esn[0]))/(log(valn[-1])-log(valn[0]))\n",
    "print('la pente de la droite obtenue ci-dessus est ',pente)\n",
    "# On retrouve bien le comportement en 1/(n^4) prédit par la théorie"
   ]
  },
  {
   "cell_type": "markdown",
   "metadata": {
    "deletable": true,
    "editable": true
   },
   "source": [
    "## 4 - Bilan\n",
    "\n",
    "Tracé sur le même graphe, l'évolution de $E_m(n)$ (en vert), $E_t(n)$ (en noir) et $E_s(n)$ (en rouge) en fonction de $n$, en échelle logarithmique, avec des couleurs différentes et une légende."
   ]
  },
  {
   "cell_type": "code",
   "execution_count": 12,
   "metadata": {
    "collapsed": false,
    "deletable": true,
    "editable": true
   },
   "outputs": [
    {
     "data": {
      "text/plain": [
       "[<matplotlib.lines.Line2D at 0x8c98588>]"
      ]
     },
     "execution_count": 12,
     "metadata": {},
     "output_type": "execute_result"
    }
   ],
   "source": [
    "figure(2)\n",
    "loglog(valn,Emn,'g')\n",
    "loglog(valn,Etn,'k')\n",
    "loglog(valn,Esn,'r')"
   ]
  },
  {
   "cell_type": "markdown",
   "metadata": {
    "deletable": true,
    "editable": true
   },
   "source": [
    "# Calcul d'un signal moyen\n",
    "\n",
    "On suppose qu'on dispose du signal bleu $s$ tracé ci-dessous en fonction du temps $t$. "
   ]
  },
  {
   "cell_type": "code",
   "execution_count": 13,
   "metadata": {
    "collapsed": false,
    "deletable": true,
    "editable": true
   },
   "outputs": [
    {
     "name": "stdout",
     "output_type": "stream",
     "text": [
      "mu =  [ 1.56046991]\n"
     ]
    }
   ],
   "source": [
    "n = 2000\n",
    "t_echant = sort(random.uniform(0,10,size=n))\n",
    "mumax = 10\n",
    "mu = random.uniform(0,mumax,size=1)\n",
    "ecarttype = random.uniform(0,mu*0.1,size=1)\n",
    "#s_echant = sin(2*t_echant)+numpy.random.normal(mu,ecarttype,size=n)\n",
    "s_echant = random.normal(mu,ecarttype,size=n)\n",
    "\n",
    "figure(100)\n",
    "plot(t_echant,s_echant)\n",
    "print(\"mu = \",mu)"
   ]
  },
  {
   "cell_type": "markdown",
   "metadata": {
    "deletable": true,
    "editable": true
   },
   "source": [
    "La question est de calculer la valeur moyenne de ce signal au cours du temps, afin d'en avoir une vision résumée, quitte à perdre un peu d'information.\n",
    "\n",
    "Plus précisément, on cherche à tracer en fonction du temps $t$ \n",
    "$$\n",
    "s_{moy}(t) := \\dfrac{1}{t} \\int_{t_0}^t s(u) du.\n",
    "$$\n",
    "\n",
    "Comme l'expression analytique du signal bleu $s$ n'est pas connue, on doit approcher l'intégrale à l'aide des valeurs dont on dispose dans les tableaux $t_{echant}$ et $s_{echant}$."
   ]
  },
  {
   "cell_type": "markdown",
   "metadata": {
    "deletable": true,
    "editable": true
   },
   "source": [
    "Tracer sur le même graphe \n",
    "+ le signal $s$ en bleu,\n",
    "+ et sa valeur moyenne calculée par la méthode des trapèzes en rouge."
   ]
  },
  {
   "cell_type": "code",
   "execution_count": 16,
   "metadata": {
    "collapsed": false,
    "deletable": true,
    "editable": true
   },
   "outputs": [
    {
     "data": {
      "text/plain": [
       "[<matplotlib.lines.Line2D at 0x910a5f8>]"
      ]
     },
     "execution_count": 16,
     "metadata": {},
     "output_type": "execute_result"
    }
   ],
   "source": [
    "figure(101)\n",
    "plot(t_echant,s_echant,'b')\n",
    "\n",
    "taille = len(s_echant)\n",
    "s_moy = zeros(taille-1)\n",
    "integrale = 0\n",
    "for i in range(taille-1):\n",
    "    integrale = integrale+(t_echant[i+1]-t_echant[i])*(s_echant[i]+s_echant[i+1])/2.0\n",
    "    s_moy[i] = integrale/t_echant[i+1]\n",
    "plot(t_echant[1:],s_moy,'r')"
   ]
  },
  {
   "cell_type": "markdown",
   "metadata": {
    "deletable": true,
    "editable": true
   },
   "source": [
    "# Approximation de l'aire d'une surface"
   ]
  },
  {
   "cell_type": "markdown",
   "metadata": {
    "deletable": true,
    "editable": true
   },
   "source": [
    "Effectuer, puis analyser le code suivant pour comprendre ce qu'il fait."
   ]
  },
  {
   "cell_type": "code",
   "execution_count": 17,
   "metadata": {
    "collapsed": false,
    "deletable": true,
    "editable": true
   },
   "outputs": [
    {
     "name": "stdout",
     "output_type": "stream",
     "text": [
      "\n",
      "\n",
      "\n",
      "Cliquer sur la partie haute de la figure pour représenter la frontière avec 10 points\n",
      "\n",
      "\n",
      "\n"
     ]
    },
    {
     "name": "stderr",
     "output_type": "stream",
     "text": [
      "C:\\Users\\Sophie JAN_2\\AppData\\Local\\Enthought\\Canopy\\edm\\envs\\User\\lib\\site-packages\\matplotlib\\backend_bases.py:2445: MatplotlibDeprecationWarning: Using default event loop until function specific to this GUI is implemented\n",
      "  warnings.warn(str, mplDeprecation)\n"
     ]
    },
    {
     "name": "stdout",
     "output_type": "stream",
     "text": [
      "xx =  [-0.35708156  0.18809125  0.73326406  1.61159804  2.23248929  3.15625433\n",
      "  3.83772035  4.35260578  4.79177276  5.21579606]\n",
      "yy =  [ 1.96966433  2.18482369  2.30435666  2.49560942  2.51951601  2.32826325\n",
      "  1.96966433  1.6588786   1.2285599   0.3440159 ]\n"
     ]
    }
   ],
   "source": [
    "def echant(numfig,n):\n",
    "    x = linspace(-1,1);\n",
    "    y = 1+x**2;\n",
    "    figure(numfig)\n",
    "    plot(x,y);\n",
    "    plot(x,-y);\n",
    "    x = linspace(1,3+2*sqrt(2));\n",
    "    y = 4-(x-3)**2/2;\n",
    "    plot(x,y);\n",
    "    plot(x,-y);\n",
    "    \n",
    "    print(\"\\n\\n\\nCliquer sur la partie haute de la figure pour représenter la frontière avec \" + repr(n) + \" points\\n\\n\\n\")\n",
    "    pts = array(ginput(n))\n",
    "    xx = pts[:,0]\n",
    "    yy = pts[:,1]\n",
    "    plot(xx,yy,'ok')\n",
    "    i = argsort(xx)    \n",
    "    return xx[i],yy[i]\n",
    "\n",
    "xx,yy = echant(1000,10)\n",
    "print(\"xx = \",xx)\n",
    "print(\"yy = \",yy)"
   ]
  },
  {
   "cell_type": "markdown",
   "metadata": {
    "deletable": true,
    "editable": true
   },
   "source": [
    "En utilisant la fonction echant ci-dessus, créer une fonction **airet** qui, \n",
    "+ calcule l'aire approchée $J_n$ du poisson en utilisant les $n$ points échantillonés et la formule des trapèzes composite \n",
    "+ et retourne l'erreur relative (en pourcentage) entre l'aire exacte et $J_n$.\n",
    "\n",
    "On admettra que l'aire du poisson vaut $I = \\dfrac{8}{3} (7+4\\sqrt{2})$.\n",
    "\n",
    "Faire varier le nombre de points échantillonnés sur la courbe et observer l'évolution de l'erreur."
   ]
  },
  {
   "cell_type": "code",
   "execution_count": 18,
   "metadata": {
    "collapsed": false,
    "deletable": true,
    "editable": true
   },
   "outputs": [
    {
     "name": "stdout",
     "output_type": "stream",
     "text": [
      "\n",
      "\n",
      "\n",
      "Cliquer sur la partie haute de la figure pour représenter la frontière avec 10 points\n",
      "\n",
      "\n",
      "\n"
     ]
    },
    {
     "name": "stderr",
     "output_type": "stream",
     "text": [
      "C:\\Users\\Sophie JAN_2\\AppData\\Local\\Enthought\\Canopy\\edm\\envs\\User\\lib\\site-packages\\matplotlib\\backend_bases.py:2445: MatplotlibDeprecationWarning: Using default event loop until function specific to this GUI is implemented\n",
      "  warnings.warn(str, mplDeprecation)\n"
     ]
    },
    {
     "data": {
      "text/plain": [
       "23.359218668013501"
      ]
     },
     "execution_count": 18,
     "metadata": {},
     "output_type": "execute_result"
    }
   ],
   "source": [
    "def airet(numfig,n):\n",
    "    xx,yy = echant(numfig,n)\n",
    "    \n",
    "    integrale = 0\n",
    "    for i in range(len(xx)-1):\n",
    "        integrale = integrale+(xx[i+1]-xx[i])*(yy[i]+yy[i+1])/2.0\n",
    "    \n",
    "    Iexacte = 8.0*(7.0+4*sqrt(2))/3.0\n",
    "    erreur = 100*abs(2*integrale-Iexacte)/Iexacte\n",
    "    return erreur\n",
    "\n",
    "airet(2000,10)"
   ]
  },
  {
   "cell_type": "code",
   "execution_count": null,
   "metadata": {
    "collapsed": true
   },
   "outputs": [],
   "source": []
  }
 ],
 "metadata": {
  "kernelspec": {
   "display_name": "Python 3",
   "language": "python",
   "name": "python3"
  },
  "language_info": {
   "codemirror_mode": {
    "name": "ipython",
    "version": 3
   },
   "file_extension": ".py",
   "mimetype": "text/x-python",
   "name": "python",
   "nbconvert_exporter": "python",
   "pygments_lexer": "ipython3",
   "version": "3.5.2"
  }
 },
 "nbformat": 4,
 "nbformat_minor": 0
}
