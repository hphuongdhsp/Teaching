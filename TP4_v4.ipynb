{
 "cells": [
  {
   "cell_type": "markdown",
   "metadata": {},
   "source": [
    "# TP4 : Applications linéaires"
   ]
  },
  {
   "cell_type": "markdown",
   "metadata": {},
   "source": [
    "Le but de ce TP est de comprendre la définition d'application linéaire entre deux espaces vectoriels, puis calculer l'image d'objets en deux dimensions suite à des applications linéaires, et finalement trouver le polygone obtenu de l'intersection d'un plan avec le cube $[0,1]^3$."
   ]
  },
  {
   "cell_type": "markdown",
   "metadata": {
    "collapsed": true
   },
   "source": [
    "On importe d'abord les libraires dont on a besoin :"
   ]
  },
  {
   "cell_type": "code",
   "execution_count": 33,
   "metadata": {
    "collapsed": true
   },
   "outputs": [],
   "source": [
    "%matplotlib inline\n",
    "from numpy import *\n",
    "from numpy.linalg import *\n",
    "from matplotlib.pyplot import *"
   ]
  },
  {
   "cell_type": "markdown",
   "metadata": {},
   "source": [
    "# Commandes"
   ]
  },
  {
   "cell_type": "markdown",
   "metadata": {},
   "source": [
    "Voici quelques commandes qui peuvent vous aider pendant la réalisation de ce TP :\n",
    "- plot([$x_A,x_B$],[$y_A,y_B$]) représente le segment entre $A=(x_A,y_A)$ et $B=(x_B,y_B)$.\n",
    "- X.append(n) rajoute le nombre n comme élément à la fin de la liste X.\n",
    "- len(X) donne la longueur de la liste (ou array) X.\n",
    "- X[i] selectionne la composante i de la liste (ou array) X.\n",
    "- X.tolist() transforme l'array X en une liste.\n",
    "- array(X) transforme une liste X en un array.\n",
    "\n",
    "On vous rappelle que Python 2 ne considère pas les nombres comme floats par default. Donc on vous conseille de mettre toujours des décimales (2.0) ou utiliser la commande float()."
   ]
  },
  {
   "cell_type": "markdown",
   "metadata": {},
   "source": [
    "# Exercice 1\n",
    "\n",
    "Soient $E$ et $F$ deux espaces vectoriels sur un même corps $K$. Une application $f : E \\rightarrow F$ est dite linéaire si elle vérifie à la fois :\n",
    "\n",
    "\\begin{equation}\n",
    "\\forall\\, A,B \\in E \\hspace{15pt}f(A+B)=f(A)+f(B)\n",
    "\\end{equation}\n",
    "\n",
    "et\n",
    "\n",
    "\\begin{equation}\n",
    "\\forall\\, \\lambda \\in K,\\,\\forall\\, A\\in E \\hspace{15pt}f(\\lambda A)=\\lambda f(A)\n",
    "\\end{equation}"
   ]
  },
  {
   "cell_type": "markdown",
   "metadata": {},
   "source": [
    "Vérifiez les deux propriétés de linéarité des fonctions suivantes définies sur $\\mathbb{R}^2$ ou $\\mathbb{R}^3$, en calculant chaque côté des égalités précédentes pour les cas suivants :\n",
    "\n",
    "\\begin{align}\n",
    "i)&\\hspace{10pt}f(x,y,z) = (x+y+z,2x+y-z)\\,\\hspace{15pt}\\text{ avec les points }A=(1,2,3),\\,B=(1,-3,1)\\text{ et }\\lambda=\\sqrt{2}\\\\\n",
    "ii)&\\hspace{10pt}f(x,y,z) = (x+y+z,-x+2y+2z)\\,\\hspace{15pt}\\text{ avec les points }C=(-1,0,4),\\,D=(2,-6,8)\\text{ et }\\lambda=3\\\\\n",
    "iii)&\\hspace{10pt}f(x,y)=(x-y,-3x+3y)\\,\\hspace{15pt}\\text{ avec les points }E=(1,-3),\\,F=(1,2)\\text{ et }\\lambda=0.3\n",
    "\\end{align}"
   ]
  },
  {
   "cell_type": "code",
   "execution_count": 34,
   "metadata": {
    "collapsed": false
   },
   "outputs": [
    {
     "name": "stdout",
     "output_type": "stream",
     "text": [
      "[0 0]\n",
      "[0 0]\n",
      "[0 0]\n",
      "[  0.00000000e+00  -2.22044605e-16]\n",
      "[ -4.44089210e-16  -4.44089210e-16]\n",
      "[ 0.  0.]\n",
      "[ 0.  0.]\n",
      "[ 0.  0.]\n",
      "[ 0.  0.]\n"
     ]
    }
   ],
   "source": [
    "def f(X):\n",
    "    x,y,z = X\n",
    "    return array([x+y+z,2*x+y-z])\n",
    "\n",
    "def g(X):\n",
    "    x,y,z = X\n",
    "    return array([x+y+z,-x+2*y+2*z])\n",
    "\n",
    "def h(X):\n",
    "    x,y = X\n",
    "    return array([x-y,-3*x+3*y])\n",
    "\n",
    "A = array([1,2,3])\n",
    "B = array([1,-3,1])\n",
    "C = array([-1,0,4])\n",
    "D = array([2,-6,8])\n",
    "E = array([1,-3])\n",
    "F = array([1,2])\n",
    "\n",
    "print f(A+B)-(f(A)+f(B))\n",
    "print g(C+D)-(g(C)+g(D))\n",
    "print h(E+F)-(h(E)+h(F))\n",
    "\n",
    "lam = sqrt(2)\n",
    "print f(lam*A)-lam*f(A)\n",
    "print f(lam*B)-lam*f(B)\n",
    "\n",
    "lam = 3.\n",
    "print g(lam*C)-lam*g(C)\n",
    "print g(lam*D)-lam*g(D)\n",
    "\n",
    "lam = 0.3\n",
    "print h(lam*E)-lam*h(E)\n",
    "print h(lam*F)-lam*h(F)\n",
    "\n"
   ]
  },
  {
   "cell_type": "markdown",
   "metadata": {},
   "source": [
    "De façon équivalente, on peut dire qu'une application $f$ est linéaire si et seulement si :\n",
    "\n",
    "\\begin{equation}\n",
    "\\forall \\,X,Y \\in E,\\,\\forall \\,\\lambda\\in K,\\hspace{10pt}f(X+\\lambda Y)=f(X)+\\lambda f(Y)\n",
    "\\end{equation}\n",
    "\n",
    "Testez la linéarité des applications précédentes avec cette propriété (calculez chaque côté de l'égalité) pour les mêmes points et valeurs de $\\lambda$ qu'à la section précédente."
   ]
  },
  {
   "cell_type": "code",
   "execution_count": 35,
   "metadata": {
    "collapsed": false
   },
   "outputs": [
    {
     "name": "stdout",
     "output_type": "stream",
     "text": [
      "[ -8.88178420e-16  -4.44089210e-16]\n",
      "[ 0.  0.]\n",
      "[ 0.  0.]\n"
     ]
    }
   ],
   "source": [
    "lam = sqrt(2)\n",
    "print f(A+lam*B)-(f(A)+lam*f(B))\n",
    "\n",
    "lam = 3.\n",
    "print g(C+lam*D)-(g(C)+lam*g(D))\n",
    "\n",
    "lam = 0.3\n",
    "print h(E+lam*F)-(h(E)+lam*h(F))"
   ]
  },
  {
   "cell_type": "markdown",
   "metadata": {},
   "source": [
    "# Exercice 2"
   ]
  },
  {
   "cell_type": "markdown",
   "metadata": {},
   "source": [
    "Dans cet exercice on s'intéresse à la déformation d'un objet en deux dimensions suite à une application linéaire. D'abord, on cherche à écrire une fonction qui transforme un segment par une application linéaire $f$ donnée. On vous demande donc d'écrire une fonction nouveau_segment qui prend comme arguments l'application linéaire $f$ et les bouts du segment $A$ et $B$. La fonction doit nous rendre l'image du segment suite à l'application linéaire, c'est-à-dire, l'array $(f(A),f(B))$."
   ]
  },
  {
   "cell_type": "code",
   "execution_count": 36,
   "metadata": {
    "collapsed": true
   },
   "outputs": [],
   "source": [
    "def nouveau_segment(fun,A,B):\n",
    "    return array([f(A),f(B)])"
   ]
  },
  {
   "cell_type": "markdown",
   "metadata": {},
   "source": [
    "Testez la fonction nouveau_segment avec l'application linéaire $f(x,y)=(x+1,y)$ et le segment de bouts $A=(1,0),\\,B=(0,1)$. Représentez dans la même figure le segment initial et le nouveau segment."
   ]
  },
  {
   "cell_type": "code",
   "execution_count": 37,
   "metadata": {
    "collapsed": false
   },
   "outputs": [
    {
     "name": "stdout",
     "output_type": "stream",
     "text": [
      "[[ 2.  0.]\n",
      " [ 1.  1.]]\n"
     ]
    },
    {
     "data": {
      "image/png": "[encoded data removed]",
      "text/plain": [
       "<matplotlib.figure.Figure at 0x108748950>"
      ]
     },
     "metadata": {},
     "output_type": "display_data"
    }
   ],
   "source": [
    "def f(X):\n",
    "    x,y=X\n",
    "    return array([x+1.,y])\n",
    "\n",
    "print nouveau_segment(f,(1,0),(0,1))\n",
    "\n",
    "Anew,Bnew = nouveau_segment(f,(1,0),(0,1))\n",
    "\n",
    "plot([1,0],[0,1])\n",
    "plot([Anew[0],Bnew[0]],[Anew[1],Bnew[1]])\n",
    "show()"
   ]
  },
  {
   "cell_type": "markdown",
   "metadata": {},
   "source": [
    "Maintenant on s'intéresse à calculer l'image d'un polygone suite à une application linéaire $f$. Écrivez une fonction nouveau_poly qui prend comme arguments l'application linéaire $f$ et la liste de sommets du polygone $X$. La fonction doit nous rendre deux arrays; un avec toutes les images des coordonnées x des sommets de la liste, et un autre avec toutes les images des coordonnées y des sommets."
   ]
  },
  {
   "cell_type": "code",
   "execution_count": 38,
   "metadata": {
    "collapsed": true
   },
   "outputs": [],
   "source": [
    "def nouveau_poly(fun,X):\n",
    "    xpoints_new=[]\n",
    "    ypoints_new=[]\n",
    "    for i in range(0,len(X)):\n",
    "        xpoints_new.append(f(X[i][0],X[i][1])[0])\n",
    "        ypoints_new.append(f(X[i][0],X[i][1])[1])\n",
    "        \n",
    "    return xpoints_new,ypoints_new  "
   ]
  },
  {
   "cell_type": "markdown",
   "metadata": {},
   "source": [
    "Représentez dans la même figure le polygone dont les sommets sont donnés dans l'ordre ainsi que sa transformation par l'application linéaire $f$ :\n",
    "\n",
    "\\begin{align}\n",
    "i)&\\hspace{10pt}f(x,y)=(x-y,-3x+3y).\\hspace{15pt}\\text{Avec sommets : }\\{(1,2),(30,4),(15,10)\\}\\\\\n",
    "ii)&\\hspace{10pt}f(x,y)=(y,x).\\hspace{15pt}\\text{Avec sommets : }\\{(1,1),(30,1),(25,15),(5,10)\\}\\\\\n",
    "iii)&\\hspace{10pt}f(x,y)=5(x,y).\\hspace{15pt}\\\\\n",
    "&\\text{Avec sommets : }\\left\\{(-2,0),\\left(-\\sqrt{2},-\\sqrt{2}\\right),(0,-2),\\left(\\sqrt{2},-\\sqrt{2}\\right),(2,0),\\left(\\sqrt{2},\\sqrt{2}\\right),(0,2),\\left(-\\sqrt{2},\\sqrt{2}\\right)\\right\\}\n",
    "\\end{align}\n",
    "\n",
    "N'oubliez pas qu'au moment de représenter les polygones il faut mettre le premier point au début et au final de la liste pour fermer le polygone."
   ]
  },
  {
   "cell_type": "code",
   "execution_count": 39,
   "metadata": {
    "collapsed": false
   },
   "outputs": [
    {
     "data": {
      "image/png": "[encoded data removed]",
      "text/plain": [
       "<matplotlib.figure.Figure at 0x10866fd10>"
      ]
     },
     "metadata": {},
     "output_type": "display_data"
    },
    {
     "data": {
      "image/png": "[encoded data removed]",
      "text/plain": [
       "<matplotlib.figure.Figure at 0x108bf0cd0>"
      ]
     },
     "metadata": {},
     "output_type": "display_data"
    },
    {
     "data": {
      "image/png": "[encoded data removed]",
      "text/plain": [
       "<matplotlib.figure.Figure at 0x107edfb90>"
      ]
     },
     "metadata": {},
     "output_type": "display_data"
    }
   ],
   "source": [
    "def f(x,y):\n",
    "    return (x-y,-3*x-3*y)\n",
    "\n",
    "plot([1,30,15,1],[2,4,10,2])\n",
    "new_poly = nouveau_poly(f,[[1,2],[30,4],[15,10],[1,2]])\n",
    "plot(new_poly[0],new_poly[1])\n",
    "show()\n",
    "\n",
    "\n",
    "def f(x,y):\n",
    "    return (y,x)\n",
    "\n",
    "plot([1,30,25,5,1],[1,1,15,10,1])\n",
    "new_poly = nouveau_poly(f,[[1,1],[30,1],[25,15],[5,10],[1,1]])\n",
    "plot(new_poly[0],new_poly[1])\n",
    "show()\n",
    "\n",
    "\n",
    "def f(x,y):\n",
    "    return (5.*x,5.*y)\n",
    "\n",
    "plot([-2,-np.sqrt(2),0,np.sqrt(2),2,np.sqrt(2),0,-np.sqrt(2),-2],\n",
    "         [0,-np.sqrt(2),-2,-np.sqrt(2),0,np.sqrt(2),2,np.sqrt(2),0])\n",
    "new_poly = nouveau_poly(f,[[-2,0],[-np.sqrt(2),-np.sqrt(2)],[0,-2],\n",
    "                   [np.sqrt(2),-np.sqrt(2)],[2,0],[np.sqrt(2),np.sqrt(2)],\n",
    "                   [0,2],[-np.sqrt(2),np.sqrt(2)],[-2,0]])\n",
    "plot(new_poly[0],new_poly[1])\n",
    "show()"
   ]
  },
  {
   "cell_type": "markdown",
   "metadata": {
    "collapsed": true
   },
   "source": [
    "# Exercice 3\n",
    "\n",
    "On cherche à présent à déterminer l'intersection d'un plan et d'un cube dans $\\mathbb{R}^3$. On représentera un plan $P$ de $\\mathbb{R}^3$ par un quadruplet de nombres réels $(a,b,c,d)$ tel que :\n",
    "\\begin{equation}\n",
    "(x,y,z)\\in P \\Longleftrightarrow ax+by+cz+d=0.\n",
    "\\end{equation}\n",
    "\n",
    "Sachant qu'un tel plan sépare $\\mathbb{R}^3$ en deux demi-espaces caractérisés par les inégalités $ax+by+cz+d <0$ et $ax+by+cz+D>0$, écrire une fonction InterSeg qui prend en entrée le quadruplet $(a,b,c,d)$ qui caractérise notre plan $P$ ainsi que les coordonnées de deux points $M$ et $N$, et renvoie en sortie \"All\" si le segment $[MN]$ est inclus dans le plan $P$, les coordonnées du point d'intersection entre le $P$ et $[MN]$ s'il existe et \"None\" s'il n'y a aucun point d'intersection."
   ]
  },
  {
   "cell_type": "code",
   "execution_count": 40,
   "metadata": {
    "collapsed": true
   },
   "outputs": [],
   "source": [
    "def InterSeg(P,M,N):\n",
    "    m=P[0]*M[0]+P[1]*M[1]+P[2]*M[2]+P[3]\n",
    "    n=P[0]*N[0]+P[1]*N[1]+P[2]*N[2]+P[3]\n",
    "    if m*n>0.:\n",
    "        res=\"None\"\n",
    "    elif m==0. and n==0.:\n",
    "        res=\"All\"\n",
    "    else:\n",
    "        res=M+(m/(m-n))*(N-M)\n",
    "    return res"
   ]
  },
  {
   "cell_type": "markdown",
   "metadata": {
    "collapsed": true
   },
   "source": [
    "Tester la fonction pour le plan d'équation $z-1=0$, et les segments $[AB]$, $[CD]$ et $[EF]$ où $A=(0,0,0)$, $B=(0,0,2)$, $C=(1,1,3)$, $D=(0,-6,4)$, $E=(8,0,1)$ et $F=(12,-9,1)$."
   ]
  },
  {
   "cell_type": "code",
   "execution_count": 41,
   "metadata": {
    "collapsed": false
   },
   "outputs": [
    {
     "name": "stdout",
     "output_type": "stream",
     "text": [
      "[ 0.  0.  1.]\n",
      "None\n",
      "All\n"
     ]
    }
   ],
   "source": [
    "A=array([0.,0.,0.])\n",
    "B=array([0.,0.,2.])\n",
    "C=array([1.,1.,3.])\n",
    "D=array([0.,-6.,4.])\n",
    "E=array([8.,0.,1.])\n",
    "F=array([12.,-9.,1.])\n",
    "P=array([0.,0.,1.,-1.])\n",
    "print(InterSeg(P,A,B))\n",
    "print(InterSeg(P,C,D))\n",
    "print(InterSeg(P,E,F))"
   ]
  },
  {
   "cell_type": "markdown",
   "metadata": {
    "collapsed": true
   },
   "source": [
    "Ecrire une fonction InterCube qui prend en entrée un plan $P$ (sous la forme d'un quadruplet) et renvoie, à l'aide de la fonction InterSeg, les sommets du polygone d'intersection entre le plan et le cube $[0,1]^3$ s'il existe, et \"None\" si cette intersection est vide. On pourra supposer qu'aucune arête du cube n'est incluse dans le plan $P$. La tester pour les plans d'équation $z-0.3=0$ et $x+y+z-1.5=0$."
   ]
  },
  {
   "cell_type": "code",
   "execution_count": 42,
   "metadata": {
    "collapsed": false
   },
   "outputs": [
    {
     "name": "stdout",
     "output_type": "stream",
     "text": [
      "[[0.0, 0.0, 0.3], [0.0, 1.0, 0.3], [1.0, 0.0, 0.3], [1.0, 1.0, 0.30000000000000004]]\n",
      "[[0.0, 0.5, 1.0], [0.0, 1.0, 0.5], [0.5, 0.0, 1.0], [0.5, 1.0, 0.0], [1.0, 0.0, 0.5], [1.0, 0.5, 0.0]]\n"
     ]
    },
    {
     "name": "stderr",
     "output_type": "stream",
     "text": [
      "/Library/Frameworks/Python.framework/Versions/2.7/lib/python2.7/site-packages/ipykernel_launcher.py:13: FutureWarning: elementwise comparison failed; returning scalar instead, but in the future will perform elementwise comparison\n",
      "  del sys.path[0]\n",
      "/Library/Frameworks/Python.framework/Versions/2.7/lib/python2.7/site-packages/ipykernel_launcher.py:25: FutureWarning: elementwise comparison failed; returning scalar instead, but in the future will perform elementwise comparison\n",
      "/Library/Frameworks/Python.framework/Versions/2.7/lib/python2.7/site-packages/ipykernel_launcher.py:45: FutureWarning: elementwise comparison failed; returning scalar instead, but in the future will perform elementwise comparison\n",
      "/Library/Frameworks/Python.framework/Versions/2.7/lib/python2.7/site-packages/ipykernel_launcher.py:53: FutureWarning: elementwise comparison failed; returning scalar instead, but in the future will perform elementwise comparison\n",
      "/Library/Frameworks/Python.framework/Versions/2.7/lib/python2.7/site-packages/ipykernel_launcher.py:21: FutureWarning: elementwise comparison failed; returning scalar instead, but in the future will perform elementwise comparison\n",
      "/Library/Frameworks/Python.framework/Versions/2.7/lib/python2.7/site-packages/ipykernel_launcher.py:33: FutureWarning: elementwise comparison failed; returning scalar instead, but in the future will perform elementwise comparison\n",
      "/Library/Frameworks/Python.framework/Versions/2.7/lib/python2.7/site-packages/ipykernel_launcher.py:41: FutureWarning: elementwise comparison failed; returning scalar instead, but in the future will perform elementwise comparison\n",
      "/Library/Frameworks/Python.framework/Versions/2.7/lib/python2.7/site-packages/ipykernel_launcher.py:57: FutureWarning: elementwise comparison failed; returning scalar instead, but in the future will perform elementwise comparison\n"
     ]
    }
   ],
   "source": [
    "def InterCube(P):\n",
    "    res=[]\n",
    "    A=array([0.,0.,0.])\n",
    "    B=array([0.,0.,1.])\n",
    "    C=array([0.,1.,0.])\n",
    "    D=array([0.,1.,1.])\n",
    "    E=array([1.,0.,0.])\n",
    "    F=array([1.,0.,1.])\n",
    "    G=array([1.,1.,0.])\n",
    "    H=array([1.,1.,1.])\n",
    "    \n",
    "    X=InterSeg(P,A,B)\n",
    "    if X!=\"None\":\n",
    "               res = res + [X.tolist()]\n",
    "    \n",
    "    X=InterSeg(P,A,C)\n",
    "    if X!=\"None\":\n",
    "               res = res + [X.tolist()]\n",
    "    \n",
    "    X=InterSeg(P,B,D)\n",
    "    if X!=\"None\":\n",
    "               res = res + [X.tolist()]\n",
    "    \n",
    "    X=InterSeg(P,C,D)\n",
    "    if X!=\"None\":\n",
    "               res = res + [X.tolist()]\n",
    "    \n",
    "    X=InterSeg(P,A,E)\n",
    "    if X!=\"None\":\n",
    "               res = res + [X.tolist()]\n",
    "    \n",
    "    X=InterSeg(P,B,F)\n",
    "    if X!=\"None\":\n",
    "               res = res + [X.tolist()]\n",
    "    \n",
    "    X=InterSeg(P,D,H)\n",
    "    if X!=\"None\":\n",
    "               res = res + [X.tolist()]\n",
    "    \n",
    "    X=InterSeg(P,C,G)\n",
    "    if X!=\"None\":\n",
    "               res = res + [X.tolist()]\n",
    "         \n",
    "    X=InterSeg(P,E,F)\n",
    "    if X!=\"None\":\n",
    "               res = res + [X.tolist()]\n",
    "    \n",
    "    X=InterSeg(P,F,H)\n",
    "    if X!=\"None\":\n",
    "               res = res + [X.tolist()]\n",
    "    \n",
    "    X=InterSeg(P,H,G)\n",
    "    if X!=\"None\":\n",
    "               res = res + [X.tolist()]\n",
    "    \n",
    "    X=InterSeg(P,G,E)\n",
    "    if X!=\"None\":\n",
    "               res = res + [X.tolist()]\n",
    "\n",
    "    return res\n",
    "\n",
    "print(InterCube(array([0.,0.,1.,-0.3])))\n",
    "print(InterCube(array([1.,1.,1.,-1.5])))"
   ]
  },
  {
   "cell_type": "code",
   "execution_count": null,
   "metadata": {
    "collapsed": true
   },
   "outputs": [],
   "source": []
  },
  {
   "cell_type": "code",
   "execution_count": null,
   "metadata": {
    "collapsed": true
   },
   "outputs": [],
   "source": []
  }
 ],
 "metadata": {
  "kernelspec": {
   "display_name": "Python 2",
   "language": "python",
   "name": "python2"
  },
  "language_info": {
   "codemirror_mode": {
    "name": "ipython",
    "version": 2
   },
   "file_extension": ".py",
   "mimetype": "text/x-python",
   "name": "python",
   "nbconvert_exporter": "python",
   "pygments_lexer": "ipython2",
   "version": "2.7.11"
  }
 },
 "nbformat": 4,
 "nbformat_minor": 1
}
