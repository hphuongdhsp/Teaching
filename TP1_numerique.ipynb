{
 "cells": [
  {
   "cell_type": "markdown",
   "metadata": {
    "deletable": true,
    "editable": true
   },
   "source": [
    "# Recherche de racine d'une fonction numérique"
   ]
  },
  {
   "cell_type": "code",
   "execution_count": 1,
   "metadata": {
    "collapsed": false,
    "deletable": true,
    "editable": true
   },
   "outputs": [
    {
     "name": "stdout",
     "output_type": "stream",
     "text": [
      "Populating the interactive namespace from numpy and matplotlib\n"
     ]
    }
   ],
   "source": [
    "%pylab inline"
   ]
  },
  {
   "cell_type": "markdown",
   "metadata": {
    "deletable": true,
    "editable": true
   },
   "source": [
    "## Des fonctions pour tester\n",
    "\n",
    "On considère la fonction définie sur $\\mathbb{R}$ par \n",
    "$$\n",
    "f_1(x) = \\cos(x)-x+\\dfrac{1}{10}.\n",
    "$$\n",
    "\n",
    "Commençons par écrire une fonction **f1(x)** qui retournera un scalaire **y** qui correspond à $f_1(x)$."
   ]
  },
  {
   "cell_type": "code",
   "execution_count": 2,
   "metadata": {
    "collapsed": true,
    "deletable": true,
    "editable": true
   },
   "outputs": [],
   "source": [
    "def f1(x):\n",
    "    y = cos(x)-x+0.1\n",
    "    return y"
   ]
  },
  {
   "cell_type": "markdown",
   "metadata": {
    "deletable": true,
    "editable": true
   },
   "source": [
    "Procéder comme ci-dessus pour les fonctions suivantes :\n",
    "+ $f_2(x) = x^3+x-1000$,\n",
    "+ $f_3(x) = x-e^{-x}$."
   ]
  },
  {
   "cell_type": "code",
   "execution_count": 3,
   "metadata": {
    "collapsed": true,
    "deletable": true,
    "editable": true
   },
   "outputs": [],
   "source": [
    "def f2(x):\n",
    "    y = x**3+x-1000\n",
    "    return y\n",
    "\n",
    "def f3(x):\n",
    "    y = x-exp(-x)\n",
    "    return y"
   ]
  },
  {
   "cell_type": "markdown",
   "metadata": {
    "deletable": true,
    "editable": true
   },
   "source": [
    "## Localisation par la méthode de dichotomie"
   ]
  },
  {
   "cell_type": "markdown",
   "metadata": {
    "deletable": true,
    "editable": true
   },
   "source": [
    "Ecrire une fonction **dicho(f,a,b,epsx,epsf)** qui applique l'algorithme de la dichotomie pour chercher la racine de **f** qui existe entre **a** et **b** tant que \n",
    "$$\n",
    "|f(c_n)| > epsf \\quad\\mbox{et}\\quad \\dfrac{|b_{n}-a_n|}{2}> epsx,\n",
    "$$\n",
    "où $c_n$ est le milieu de l'intervalle $[a_n,b_n]$ considéré à l'étape $n$.\n",
    "\n",
    "Cette fonction doit retourner le dernier milieu calculé, ainsi que le nombre d'itérations effectuées."
   ]
  },
  {
   "cell_type": "code",
   "execution_count": 4,
   "metadata": {
    "collapsed": true,
    "deletable": true,
    "editable": true
   },
   "outputs": [],
   "source": [
    "def dicho(f,a,b,epsx,epsf):\n",
    "    ai = a\n",
    "    fai = f(ai)\n",
    "    \n",
    "    bi = b\n",
    "    fbi = f(bi)   \n",
    "    \n",
    "    ci = (ai+bi)/2.0\n",
    "    fci = f(ci)\n",
    "    \n",
    "    i = 0\n",
    "    cdt1 = abs(fci) > epsf\n",
    "    cdt2 = abs(bi-ai) > 2*epsx\n",
    "    while cdt2 and cdt2:\n",
    "        if fai*fci < 0:\n",
    "            bi = ci\n",
    "            fbi = fci\n",
    "        else:\n",
    "            ai = ci\n",
    "            fai = fci\n",
    "        \n",
    "        ci = (ai+bi)/2.0\n",
    "        fci = f(ci)\n",
    "        \n",
    "        cdt1 = abs(fci) > epsf\n",
    "        cdt2 = abs(bi-ai) > 2*epsx\n",
    "        \n",
    "        i = i+1\n",
    "    return ci,i"
   ]
  },
  {
   "cell_type": "markdown",
   "metadata": {
    "deletable": true,
    "editable": true
   },
   "source": [
    "Obtenir une approximation grossière de la racine $r_i$ de chacune des fonctions $f_i$ définies ci-dessus, en appliquant la méthode de dichotomie avec **epsx = epsf = 0.01**, en utilisant les intervalles initiaux suivants : \n",
    "+ pour $f_1$, $[a,b] = \\left[0,\\dfrac{3 \\pi}{8}\\right]$ ; \n",
    "+ pour $f_2$, $[a,b] = [9,10]$ ; \n",
    "+ pour $f_3$, $[a,b] = [0,1]$."
   ]
  },
  {
   "cell_type": "code",
   "execution_count": 5,
   "metadata": {
    "collapsed": false,
    "deletable": true,
    "editable": true
   },
   "outputs": [
    {
     "name": "stdout",
     "output_type": "stream",
     "text": [
      "(0.8007379712763046, 6)\n",
      "(9.9609375, 6)\n",
      "(0.5703125, 6)\n"
     ]
    }
   ],
   "source": [
    "D1 = dicho(f1,0,3*pi/8.0,0.01,0.01)\n",
    "print(D1)\n",
    "x01 = D1[0]\n",
    "\n",
    "D2 = dicho(f2,9,10,0.01,0.01)\n",
    "print(D2)\n",
    "x02 = D2[0]\n",
    "\n",
    "D3 = dicho(f3,0,1,0.01,0.01)\n",
    "print(D3)\n",
    "x03 = D3[0]"
   ]
  },
  {
   "cell_type": "markdown",
   "metadata": {
    "deletable": true,
    "editable": true
   },
   "source": [
    "## Approche rapide et précise de la racine par la méthode de Newton"
   ]
  },
  {
   "cell_type": "markdown",
   "metadata": {
    "deletable": true,
    "editable": true
   },
   "source": [
    "Ecrire une fonction **Newton(f,df,x0,epsx,epsf)** qui cherche à approcher précisément la racine de **f**, en appliquant l'algorithme de Newton depuis **x0** tant que \n",
    "$$\n",
    "|f(x_n)| > epsf \\quad\\mbox{et}\\quad |x_{n+1}-x_n|> epsx.\n",
    "$$\n",
    "\n",
    "La fonction **df** permet d'évaluer la dérivée de la fonction **f**.\n",
    "\n",
    "Cette fonction doit retourner le dernier itéré calculé, ainsi que le nombre d'itérations effectuées."
   ]
  },
  {
   "cell_type": "code",
   "execution_count": 6,
   "metadata": {
    "collapsed": true,
    "deletable": true,
    "editable": true
   },
   "outputs": [],
   "source": [
    "def Newton(f,df,x0,epsx,epsf):\n",
    "    x = x0\n",
    "    fx = f(x)\n",
    "    dfx = df(x)\n",
    "    cdt1 = abs(fx) > epsf\n",
    "    cdt2 = True\n",
    "    i = 0\n",
    "    while cdt1 and cdt2:\n",
    "        xprec = x\n",
    "        x = x-fx/dfx\n",
    "        fx = f(x)\n",
    "        dfx = df(x)\n",
    "        cdt1 = abs(fx) > epsf\n",
    "        cdt2 = abs(x-xprec) > epsx\n",
    "        i = i+1\n",
    "    return x,i"
   ]
  },
  {
   "cell_type": "markdown",
   "metadata": {
    "deletable": true,
    "editable": true
   },
   "source": [
    "Obtenir une approximation précise de la racine $r_i$ de chacune des fonctions $f_i$ définies ci-dessus, en appliquant la méthode de Newton avec **epsx = epsf =**$10^{-10}$, en utilisant pour **x0** les solutions grossières obtenues par la méthode de dichotomie.\n",
    "\n",
    "Pour pouvoir appeler la fonction **Newton**, il faudra penser à écrire des fonctions **df1**, **df2**, et **df3** qui permettent d'évaluer les dérivées des fonctions $f_1$, $f_2$ et $f_3$ en un point $x$."
   ]
  },
  {
   "cell_type": "code",
   "execution_count": 7,
   "metadata": {
    "collapsed": false,
    "deletable": true,
    "editable": true
   },
   "outputs": [
    {
     "name": "stdout",
     "output_type": "stream",
     "text": [
      "0.8007379712763046 (0.79808160139772755, 2)\n",
      "9.9609375 (9.966666790534974, 3)\n",
      "0.5703125 (0.56714329040918732, 2)\n"
     ]
    }
   ],
   "source": [
    "def df1(x):\n",
    "    yp = -sin(x)-1.0\n",
    "    return yp\n",
    "\n",
    "def df2(x):\n",
    "    yp = 3*x**2+1.0\n",
    "    return yp\n",
    "\n",
    "def df3(x):\n",
    "    yp = 1.0+exp(-x)\n",
    "    return yp\n",
    "\n",
    "epsx = 1.0e-10\n",
    "epsf = 1.0e-10\n",
    "\n",
    "N1 = Newton(f1,df1,x01,epsx,epsf)\n",
    "print(x01,N1)\n",
    "\n",
    "N2 = Newton(f2,df2,x02,epsx,epsf)\n",
    "print(x02,N2)\n",
    "\n",
    "N3 = Newton(f3,df3,x03,epsx,epsf)\n",
    "print(x03,N3)"
   ]
  },
  {
   "cell_type": "markdown",
   "metadata": {
    "deletable": true,
    "editable": true
   },
   "source": [
    "## Une application : le service de R. Federer\n",
    "\n",
    "R. Federer est au service depuis la position O de coordonnées $(0,0,0)$. Il lance la balle verticalement et la frappe avec sa raquette en un point D situé sur la verticale de O à la hauteur $H$.\n",
    "La balle part alors de D avec une vitesse de module $v_0$ et un angle $\\alpha$ par rapport à l'horizontale.\n",
    "On se place alors dans un repère orthonormé tel que les coordonnées de $\\vec{v}$ sont\n",
    "$(v_0 \\cos(\\alpha),v_0 \\sin(\\alpha),0)$.\n",
    "Supposons que la balle est de masse $m$ et considérons-la comme un point. \n",
    "On étudie le mouvement de la balle dans le repère indiqué ci-dessus, en négligeant l'action de l'air.\n",
    "\n",
    "La balle est soumise uniquement à son poids $\\vec{P}$. \n",
    "En effet, on ne tient compte ni de la poussée d’Archimède, ni de la force de\n",
    "frottement de l’air sur la balle. \n",
    "De plus, la raquette n’agit plus pendant le mouvement de la balle.\n",
    "\n",
    "En appliquant la seconde loi de Newton à la balle on a simplement $m \\vec{a} = m \\vec{g}$, c'est à dire $\\vec{a} = \\vec{g}$, ou encore, en projetant sur chacun des axes : \n",
    "$$\n",
    "\\begin{array}{rcl}\n",
    "\\dfrac{dv_x}{dt} & = & 0,\n",
    "\\\\\n",
    "\\dfrac{dv_y}{dt} & = & -g,\n",
    "\\\\\n",
    "v_z & = & 0.\n",
    "\\end{array}\n",
    "$$\n",
    "\n",
    "En intégrant une première fois et en utilisant les conditions initiales de vitesse, on obtient\n",
    "$$\n",
    "\\begin{array}{rcl}\n",
    "v_x & = & v_0 \\cos(\\alpha),\n",
    "\\\\\n",
    "v_y & = & -gt+v_0 \\sin(\\alpha),\n",
    "\\\\\n",
    "v_z & = & 0.\n",
    "\\end{array}\n",
    "$$\n",
    "\n",
    "Si on intègre une seconde fois et si on utilise les conditions initiales de position, on aboutit à\n",
    "$$\n",
    "\\begin{array}{rcl}\n",
    "x & = & t v_0 \\cos(\\alpha),\n",
    "\\\\\n",
    "y & = & -g\\dfrac{t^2}{2}+tv_0 \\sin(\\alpha) + H,\n",
    "\\\\\n",
    "z & = & 0.\n",
    "\\end{array}\n",
    "$$\n",
    "\n",
    "On peut déduire $t$ de la première équation : $t = \\dfrac{x}{v_0 \\cos(\\alpha)}$.\n",
    "En injectant le résultat dans la seconde équation, on obtient :\n",
    "$$\n",
    "y = -\\dfrac{g}{2} \\left(\\dfrac{x}{v_0 \\cos(\\alpha)}\\right)^2+\\left(\\dfrac{x}{v_0 \\cos(\\alpha)}\\right)v_0 \\sin(\\alpha) + H\n",
    "$$\n",
    "ou encore\n",
    "$$\n",
    "y = -\\dfrac{g}{2} \\left(\\dfrac{x}{v_0 \\cos(\\alpha)}\\right)^2+x \\tan(\\alpha) + H.\n",
    "$$"
   ]
  },
  {
   "cell_type": "markdown",
   "metadata": {
    "deletable": true,
    "editable": true
   },
   "source": [
    "Les mesures faites sur le terrain sont les suivantes : \n",
    "+ la raquette de R. Federer a frappé la balle avec $H = 2.20m$,\n",
    "+ le module de la vitesse était $v_0 = 126 km.h^{-1}$,\n",
    "+ la balle a touché le sol en $x = 18.7m$.\n",
    "\n",
    "On rappelle que $g \\simeq 9.81 m.s^{-2}$.\n",
    "\n",
    "On se demande quel angle $\\alpha$ faisait le vecteur vitesse avec l'horizontale ?"
   ]
  },
  {
   "cell_type": "markdown",
   "metadata": {
    "deletable": true,
    "editable": true
   },
   "source": [
    "### 1) Un tracé\n",
    "\n",
    "Réaliser un tracé de la fonction \n",
    "$$\\alpha \\mapsto -\\dfrac{g}{2} \\left(\\dfrac{x}{v_0 \\cos(\\alpha)}\\right)^2+x \\tan(\\alpha) + H$$\n",
    "pour $\\alpha$ entre $-\\dfrac{\\pi}{4}$ et $\\dfrac{\\pi}{4}$ afin de décider sur quel intervalle il serait pertinent de démarrer une dichotomie."
   ]
  },
  {
   "cell_type": "code",
   "execution_count": 8,
   "metadata": {
    "collapsed": false,
    "deletable": true,
    "editable": true
   },
   "outputs": [
    {
     "data": {
      "text/plain": [
       "[<matplotlib.lines.Line2D at 0x7d1dfd0>]"
      ]
     },
     "execution_count": 8,
     "metadata": {},
     "output_type": "execute_result"
    },
    {
     "data": {
      "image/png": "[encoded data removed]",
      "text/plain": [
       "<matplotlib.figure.Figure at 0x7d1df98>"
      ]
     },
     "metadata": {},
     "output_type": "display_data"
    }
   ],
   "source": [
    "H = 2.20\n",
    "v0 = 126 *1000/3600.0 # vitesse en metres par seconde\n",
    "x = 18.7\n",
    "g = 9.81\n",
    "\n",
    "alpha = linspace(-pi/4,pi/4)\n",
    "val = -g*(x/(v0*cos(alpha)))**2/2.0+x*tan(alpha)+H\n",
    "plot(alpha,val)\n",
    "plot([-pi/4,pi/4],[0,0],'k-')"
   ]
  },
  {
   "cell_type": "markdown",
   "metadata": {
    "deletable": true,
    "editable": true
   },
   "source": [
    "### 2) Localisation de la racine par dichotomie"
   ]
  },
  {
   "cell_type": "code",
   "execution_count": 9,
   "metadata": {
    "collapsed": false,
    "deletable": true,
    "editable": true
   },
   "outputs": [
    {
     "name": "stdout",
     "output_type": "stream",
     "text": [
      "(-0.043750000000000004, 5)\n"
     ]
    }
   ],
   "source": [
    "def f4(alpha):\n",
    "    H = 2.20\n",
    "    v0 = 126 *1000/3600.0 # vitesse en metres par seconde\n",
    "    x = 18.7\n",
    "    g = 9.81\n",
    "    y = -g*(x/(v0*cos(alpha)))**2/2.0+x*tan(alpha)+H\n",
    "    return y\n",
    "\n",
    "def df4(alpha):\n",
    "    H = 2.20\n",
    "    v0 = 126 *1000/3600.0 # vitesse en metres par seconde\n",
    "    x = 18.7\n",
    "    g = 9.81\n",
    "    yp = -g*(x/(v0*cos(alpha)))*(x*v0*sin(alpha)/((v0*cos(alpha))**2))+x/((cos(alpha))**2)\n",
    "    return yp\n",
    "\n",
    "D4 = dicho(f4,-0.2,0.2,0.01,0.01)\n",
    "print(D4)\n",
    "x04 = D4[0]"
   ]
  },
  {
   "cell_type": "markdown",
   "metadata": {
    "deletable": true,
    "editable": true
   },
   "source": [
    "### 3) Approximation précise de l'angle par la méthode de Newton"
   ]
  },
  {
   "cell_type": "code",
   "execution_count": 10,
   "metadata": {
    "collapsed": false,
    "deletable": true,
    "editable": true
   },
   "outputs": [
    {
     "name": "stdout",
     "output_type": "stream",
     "text": [
      "-0.043750000000000004 (-0.042608824379255922, 2)\n",
      "l'angle (en degrés) =  -2.44130580695\n"
     ]
    }
   ],
   "source": [
    "eps = 1.0e-10\n",
    "N4 = Newton(f4,df4,x04,eps,eps)\n",
    "print(x04,N4)\n",
    "\n",
    "print(\"l'angle (en degrés) = \",N4[0]*180/pi)"
   ]
  },
  {
   "cell_type": "markdown",
   "metadata": {
    "deletable": true,
    "editable": true
   },
   "source": [
    "## Recherche de toutes les racines d'une fonction\n",
    "\n",
    "On cherche ici à déterminer toutes les solutions de l'équation $f(x) = 0$ sur un intervalle $[c,d]$."
   ]
  },
  {
   "cell_type": "markdown",
   "metadata": {
    "deletable": true,
    "editable": true
   },
   "source": [
    "Ecrire une fonction **localise(f,c,d,mu)** qui localise, par discrétisation, toutes les racines de **f** à **mu** près entre **c** et **d**, en évaluant **f** aux bornes de chaque sous-intervalle de longueur **mu**.\n",
    "\n",
    "On admettra que si **f** est de même signe aux extrémités d'un sous-intervalle de longueur **mu**, alors **f** ne s'annule pas dans ce sous-intervalle.\n",
    "\n",
    "Cette fonction retournera deux tableaux **deb** et **fin**. Le premier contiendra les bornes gauches des sous-intervalles contenant une racine de **f**. Le second contiendra les bornes droites correspondantes."
   ]
  },
  {
   "cell_type": "code",
   "execution_count": 11,
   "metadata": {
    "collapsed": true,
    "deletable": true,
    "editable": true
   },
   "outputs": [],
   "source": [
    "def localise(f,c,d,mu):\n",
    "    a = c\n",
    "    b = c+mu\n",
    "    gauche = []\n",
    "    droite = []\n",
    "    while b<d:\n",
    "        fa = f(a)\n",
    "        fb = f(b)\n",
    "        if fa*fb < 0:\n",
    "            gauche.append(a)\n",
    "            droite.append(b)\n",
    "        a = b\n",
    "        b = a+mu\n",
    "    b = d\n",
    "    fa = f(a)\n",
    "    fb = f(b)\n",
    "    if fa*fb < 0:\n",
    "        gauche.append(a)\n",
    "        droite.append(b)\n",
    "    return gauche,droite"
   ]
  },
  {
   "cell_type": "markdown",
   "metadata": {
    "deletable": true,
    "editable": true
   },
   "source": [
    "Ecrire une fonction **toutes_racines(f,df,c,d,mu,epsx,epsf)** qui recherche toutes les racines de **f** entre **c** et **d** en appliquant la démarche suivante :\n",
    "+ appel de la fonction **localise** pour obtenir les sous-intervalles de longueur **mu** contenant une racine de $f$ ; \n",
    "+ puis utilisation d'une méthode de Newton sur chacun des sous-intervalles ainsi obtenus, par exemple en démarrant du milieu du sous-intervalle.\n",
    "\n",
    "Cette fonction retournera la liste des racines approchées de **f**"
   ]
  },
  {
   "cell_type": "code",
   "execution_count": 12,
   "metadata": {
    "collapsed": true,
    "deletable": true,
    "editable": true
   },
   "outputs": [],
   "source": [
    "def toutes_racines(f,df,c,d,mu,epsx,epsf):\n",
    "    racines = []\n",
    "    gauche,droite = localise(f,c,d,mu)\n",
    "    nb_rac = len(gauche)\n",
    "    print(\"Nb de racines = \",nb_rac)\n",
    "    for i in range(nb_rac):\n",
    "        x0 = (gauche[i]+droite[i])/2.0\n",
    "        rac,iter = Newton(f,df,x0,epsx,epsf)\n",
    "        racines.append(rac)\n",
    "    return racines"
   ]
  },
  {
   "cell_type": "markdown",
   "metadata": {
    "deletable": true,
    "editable": true
   },
   "source": [
    "Tester la fonction **toutes_racines** avec la fonction $f(x) = x^3-4x+1$ sur $[-10,10]$. \n",
    "\n",
    "On pourra prendre **mu = 0.5** et **epsx = epsf = **$10^{-12}$."
   ]
  },
  {
   "cell_type": "code",
   "execution_count": 13,
   "metadata": {
    "collapsed": false,
    "deletable": true,
    "editable": true
   },
   "outputs": [
    {
     "name": "stdout",
     "output_type": "stream",
     "text": [
      "Nb de racines =  3\n",
      "racines =  [-2.114907541476756, 0.2541016883650524, 1.8608058531117035]\n",
      "[-1.7763568394002505e-15, 0.0, 8.881784197001252e-16]\n"
     ]
    }
   ],
   "source": [
    "def f5(x):\n",
    "    f = x**3-4*x+1\n",
    "    return f\n",
    "\n",
    "def df5(x):\n",
    "    fp = 3*x**2-4\n",
    "    return fp\n",
    "\n",
    "f = f5\n",
    "df = df5\n",
    "c = -10\n",
    "d = 10\n",
    "eps = 1.0e-12\n",
    "mu = 0.5\n",
    "racines = toutes_racines(f,df,c,d,mu,eps,eps)\n",
    "print (\"racines = \",racines)\n",
    "print ([f5(rac) for rac in racines])"
   ]
  },
  {
   "cell_type": "code",
   "execution_count": null,
   "metadata": {
    "collapsed": true,
    "deletable": true,
    "editable": true
   },
   "outputs": [],
   "source": []
  },
  {
   "cell_type": "code",
   "execution_count": null,
   "metadata": {
    "collapsed": true,
    "deletable": true,
    "editable": true
   },
   "outputs": [],
   "source": []
  }
 ],
 "metadata": {
  "kernelspec": {
   "display_name": "Python 3",
   "language": "python",
   "name": "python3"
  },
  "language_info": {
   "codemirror_mode": {
    "name": "ipython",
    "version": 3
   },
   "file_extension": ".py",
   "mimetype": "text/x-python",
   "name": "python",
   "nbconvert_exporter": "python",
   "pygments_lexer": "ipython3",
   "version": "3.5.2"
  }
 },
 "nbformat": 4,
 "nbformat_minor": 1
}
