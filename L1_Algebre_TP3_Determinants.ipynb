{
 "cells": [
  {
   "cell_type": "markdown",
   "metadata": {},
   "source": [
    "# TP3 : Déterminants"
   ]
  },
  {
   "cell_type": "markdown",
   "metadata": {},
   "source": [
    "Le but de ce TP est de calculer le déterminant de matrices carrées de taille quelconque, à l'aide d'opérations simples sur les coefficients, puis d'utiliser ce qui a été fait afin de trouver le rang d'une matrice.\n",
    "Nous utiliserons les librairies numpy et numpy.linalg."
   ]
  },
  {
   "cell_type": "code",
   "execution_count": 2,
   "metadata": {
    "collapsed": true
   },
   "outputs": [],
   "source": [
    "from numpy import *\n",
    "from numpy.linalg import *"
   ]
  },
  {
   "cell_type": "markdown",
   "metadata": {},
   "source": [
    "## Commandes"
   ]
  },
  {
   "cell_type": "markdown",
   "metadata": {},
   "source": [
    "Voici les différentes commandes dont vous aurez besoin dans ce TP, si $A$ est une matrice :\n",
    "- A[i,j] renvoie le coefficient $a_{i+1,j+1}$\n",
    "- A[i,:] renvoie la ligne $i+1$ de $A$\n",
    "- A[:,j] renvoie la colonne $j+1$ de $A$\n",
    "- delete(A,i,axis=0) renvoie la matrice $A$ à laquelle on a supprimé la ligne $i+1$, pour supprimer une colonne, il faut utiliser axis=1\n",
    "- A.shape renvoie les dimensions de $A$\n",
    "- Si $A$ est une matrice ligne, la commande A.tolist() renvoie une liste composée des coefficients de $A$\n",
    "- Si $L$ est une liste, L.count(a) renvoie le nombre de fois où la valeur $a$ est présente dans la liste $L$"
   ]
  },
  {
   "cell_type": "markdown",
   "metadata": {},
   "source": [
    "## Déterminants d'ordre $2$"
   ]
  },
  {
   "cell_type": "markdown",
   "metadata": {},
   "source": [
    "Écrivez une fonction det2 qui prend en entrée une matrice carrée de taille $2$ et qui retourne son déterminant."
   ]
  },
  {
   "cell_type": "code",
   "execution_count": 4,
   "metadata": {
    "collapsed": true
   },
   "outputs": [],
   "source": []
  },
  {
   "cell_type": "markdown",
   "metadata": {},
   "source": [
    "Testez la fonction avec les matrices\n",
    "\n",
    "\\begin{pmatrix}\n",
    "1 & 2 \\\\\n",
    "4 & 3\n",
    "\\end{pmatrix}\n",
    "\n",
    "<br/>\n",
    "\n",
    "\\begin{pmatrix}\n",
    "6 & 3 \\\\\n",
    "2 & 1\n",
    "\\end{pmatrix}\n"
   ]
  },
  {
   "cell_type": "code",
   "execution_count": 3,
   "metadata": {
    "collapsed": false
   },
   "outputs": [],
   "source": [
    "A=array([[1,2],[4,3]])\n",
    "B=array([[6,3],[2,1]])\n"
   ]
  },
  {
   "cell_type": "markdown",
   "metadata": {},
   "source": [
    "## Déterminants d'ordre 3"
   ]
  },
  {
   "cell_type": "markdown",
   "metadata": {},
   "source": [
    "Il est possible de calculer le déterminant d'une matrice de taille $3$ de plusieurs façons, nous nous intéressons à celle qui utilise le développement selon une ligne ou une colonne. \n",
    "Écrivez une fonction extr3_2 qui prend en entrée une matrice carrée $A$ de taille $3$, un numéro de ligne $i$ et un numéro de colonne $j$ et qui retourne la matrice obtenue à partir de $A$ en rayant la ligne $i$ et la colonne $j$, dite matrice extraite."
   ]
  },
  {
   "cell_type": "code",
   "execution_count": 6,
   "metadata": {
    "collapsed": true
   },
   "outputs": [],
   "source": []
  },
  {
   "cell_type": "markdown",
   "metadata": {},
   "source": [
    "Testez cette fonction avec les matrices\n",
    "\n",
    "\\begin{pmatrix}\n",
    "7 & -1 & 4 \\\\\n",
    "5.5 & 0 & 3 \\\\\n",
    "6 & -6 & 1\n",
    "\\end{pmatrix}\n",
    "\n",
    "et la deuxième ligne et la première colonne ; puis avec la deuxième ligne et la troisième colonne."
   ]
  },
  {
   "cell_type": "code",
   "execution_count": 4,
   "metadata": {
    "collapsed": false
   },
   "outputs": [],
   "source": [
    "A = array([[7,-1,4],[5.5,0,3],[6,-6,1]])\n"
   ]
  },
  {
   "cell_type": "markdown",
   "metadata": {},
   "source": [
    "Écrivez une fontion det3 qui prend en entrée une matrice carrée de taille $3$ et qui calcule son déterminant en le développant suivant la première ligne."
   ]
  },
  {
   "cell_type": "code",
   "execution_count": 8,
   "metadata": {
    "collapsed": true
   },
   "outputs": [],
   "source": []
  },
  {
   "cell_type": "markdown",
   "metadata": {},
   "source": [
    "Testez cette fonction sur les matrices\n",
    "\n",
    "\\begin{pmatrix}\n",
    "7 & -1 & 4 \\\\\n",
    "5.5 & 0 & 3 \\\\\n",
    "6 & -6 & 1\n",
    "\\end{pmatrix}\n",
    "\n",
    "<br/>\n",
    "\n",
    "\\begin{pmatrix}\n",
    "4 & 0 & 2 \\\\\n",
    "0 & 1 & 0 \\\\\n",
    "0 & 4 & 3\n",
    "\\end{pmatrix}\n",
    "\n",
    "\\begin{pmatrix}\n",
    "1 & -1 & 7 \\\\\n",
    "3 & -2 & 7 \\\\\n",
    "-4 & 2 & 0\n",
    "\\end{pmatrix}"
   ]
  },
  {
   "cell_type": "code",
   "execution_count": 5,
   "metadata": {
    "collapsed": false
   },
   "outputs": [],
   "source": [
    "A=array([[7,-1,4],[5.5,0,3],[6,-6,1]])\n",
    "B=array([[4,0,2],[0,1,0],[0,4,3]])\n",
    "C=array([[1,-1,7],[3,-2,7],[-4,2,0]])\n"
   ]
  },
  {
   "cell_type": "markdown",
   "metadata": {},
   "source": [
    "## Déterminants d'ordre quelconque"
   ]
  },
  {
   "cell_type": "markdown",
   "metadata": {},
   "source": [
    "En pratique, pour calculer le déterminant d'une matrice carrée de taille quelconque par développement delon une ligne ou une colonne, il est utile de minimiser le nombre d'opérations en choisissant la ligne ou colonne avec le plus de zéros.\n",
    "\n",
    "Écrivez une fonction maxzeros qui prend en entrée un matrice carrée de taille quelconque et qui renvoie le numéro d'une ligne ou colonne parmi celles comportant le plus de zéros. Si la matrice ne contient aucun zéro, la fonction doit renvoyer la première ligne.\n",
    "Les résultats seront renvoyés sous la forme d'un couple $(\\alpha, i)$, où $i=0$ si c'est une ligne, et $i=1$ si c'est une colonne, et $\\alpha$ correspond à l'objet ayant le numéro $\\alpha +1$. Par exemple, si le résultat est la cinquième colonne, la fonction retournera $(4,1)$."
   ]
  },
  {
   "cell_type": "code",
   "execution_count": 10,
   "metadata": {
    "collapsed": true
   },
   "outputs": [],
   "source": []
  },
  {
   "cell_type": "markdown",
   "metadata": {},
   "source": [
    "Testez cette fonction sur les matrices\n",
    "\n",
    "\\begin{pmatrix}\n",
    "7 & -1 & 4 \\\\\n",
    "5.5 & 0 & 3 \\\\\n",
    "6 & -6 & 1\n",
    "\\end{pmatrix}\n",
    "\n",
    "<br/>\n",
    "\n",
    "\\begin{pmatrix}\n",
    "4 & 0 & 2 \\\\\n",
    "0 & 1 & 7 \\\\\n",
    "0 & 4 & 3\n",
    "\\end{pmatrix}\n",
    "\n",
    "<br/>\n",
    "\n",
    "\\begin{pmatrix}\n",
    "1&2&2&1 \\\\\n",
    "2&5&5&5 \\\\\n",
    "7&6&8&1 \\\\\n",
    "1&2&3&4\n",
    "\\end{pmatrix}"
   ]
  },
  {
   "cell_type": "code",
   "execution_count": 6,
   "metadata": {
    "collapsed": false
   },
   "outputs": [],
   "source": [
    "A=array([[7,-1,4],[5.5,0,3],[6,-6,1]])\n",
    "B=array([[4,0,2],[0,1,7],[0,4,3]])\n",
    "C=array([[1,2,2,1],[2,5,5,5],[7,6,8,1],[1,2,3,4]])\n"
   ]
  },
  {
   "cell_type": "markdown",
   "metadata": {},
   "source": [
    "On donne ci-dessous la fonction extr qui prend en entrée une matrice $A$, un numéro de ligne $i$ et un numéro de colonne $j$ et qui retourne la matrice obtenue à partir de $A$ en rayant la ligne $i$ et la colonne $j$, dite matrice extraite. Cette fonction est presque identique à la fonction extr3_2."
   ]
  },
  {
   "cell_type": "code",
   "execution_count": 12,
   "metadata": {
    "collapsed": true
   },
   "outputs": [],
   "source": [
    "def extr(A,i,j):\n",
    "    A1=array(A)\n",
    "    A1=delete(A1,(i-1),axis=0)\n",
    "    A1=delete(A1,j-1,axis=1)\n",
    "    return A1"
   ]
  },
  {
   "cell_type": "markdown",
   "metadata": {},
   "source": [
    "Écrivez une fonction det qui prend en entrée une matrice carrée de taille quelconque et retourne son déterminant en développant suivant une ligne ou une colonne parmi celles qui ont le plus de zéros."
   ]
  },
  {
   "cell_type": "code",
   "execution_count": 13,
   "metadata": {
    "collapsed": true
   },
   "outputs": [],
   "source": [
    "        "
   ]
  },
  {
   "cell_type": "markdown",
   "metadata": {},
   "source": [
    "Testez cette fonction sur les matrices\n",
    "\n",
    "\\begin{pmatrix}\n",
    "7 & -1 & 4 \\\\\n",
    "5.5 & 0 & 3 \\\\\n",
    "6 & -6 & 1\n",
    "\\end{pmatrix}\n",
    "\n",
    "<br/>\n",
    "\n",
    "\\begin{pmatrix}\n",
    "4 & 0 & 2 \\\\\n",
    "0 & 1 & 0 \\\\\n",
    "0 & 4 & 3\n",
    "\\end{pmatrix}\n",
    "\n",
    "<br/>\n",
    "\n",
    "\\begin{pmatrix}\n",
    "1 & 5 & 8 & 1.5 & 7 & -8 \\\\\n",
    "0 & 7 & 0 & -2.2 & 4 & 0 \\\\\n",
    "0 & 0 & -3 & 1 & -0.4 & 5 \\\\\n",
    "0 & 0 & 0 & 2 & 4 & 1.1 \\\\\n",
    "0 & 0 & 0 & 0 & 5 & 2 \\\\\n",
    "0 & 0 & 0 & 0 & 0 & 1.5\n",
    "\\end{pmatrix}\n",
    "\n",
    "<br/>\n",
    "\n",
    "\\begin{pmatrix}\n",
    "1 & 4 & 7 & 10 \\\\\n",
    "-2 & 3.3 & -14 & 0 \\\\\n",
    "1 & 1.32 & 7 & 0.01 \\\\\n",
    "0 & -8 & 0 & 41\n",
    "\\end{pmatrix}"
   ]
  },
  {
   "cell_type": "code",
   "execution_count": 7,
   "metadata": {
    "collapsed": false
   },
   "outputs": [],
   "source": [
    "A=array([[7,-1,4],[5.5,0,3],[6,-6,1]])\n",
    "B=array([[4,0,2],[0,1,0],[0,4,3]])\n",
    "C=array([[1,5,8,1.5,7,-8],[0,7,0,-2.2,4,0],[0,0,-3,1,-0.4,5],[0,0,0,2,4,11],[0,0,0,0,5,2],[0,0,0,0,0,1.5]])\n",
    "D=array([[1,4,7,10],[-2,3.3,-14,0],[1,1.32,7,0.01],[0,-8,0,41]])\n"
   ]
  },
  {
   "cell_type": "markdown",
   "metadata": {},
   "source": [
    "## Rang d'une matrice carrée"
   ]
  },
  {
   "cell_type": "markdown",
   "metadata": {},
   "source": [
    "Le rang d'une matrice est égal à la taille du plus grand déterminant extrait non nul. \n",
    "\n",
    "On donne la fonction det_extr_ord_inf qui prend en entrée une matrice carrée de taille $n$ et qui retourne 'True' si elle a un déterminant extrait d'ordre $n-1$ non nul."
   ]
  },
  {
   "cell_type": "code",
   "execution_count": 15,
   "metadata": {
    "collapsed": false
   },
   "outputs": [],
   "source": [
    "def det_extr_ord_inf(A):\n",
    "    indic=False\n",
    "    for k in range(A.shape[0]):\n",
    "            for l in range(A.shape[1]):\n",
    "                if det(extr(A,k,l))!=0:\n",
    "                    indic=True\n",
    "    return indic\n",
    "   "
   ]
  },
  {
   "cell_type": "markdown",
   "metadata": {},
   "source": [
    "Prenez un moment pour compremdre comment fonctionne la fonction, puis testez-la sur les matrices\n",
    "\n",
    "\\begin{pmatrix}\n",
    "4 & 0 & 2 \\\\\n",
    "0 & 1 & 0 \\\\\n",
    "0 & 4 & 3\n",
    "\\end{pmatrix}\n",
    "\n",
    "<br/>\n",
    "\n",
    "\\begin{pmatrix}\n",
    "1 & 4 & 7 & 10 \\\\\n",
    "-2 & 3.3 & -14 & 0 \\\\\n",
    "1 & 1.32 & 7 & 0.01 \\\\\n",
    "0 & -8 & 0 & 41\n",
    "\\end{pmatrix}\n",
    "\n",
    "<br/>\n",
    "\n",
    "\\begin{pmatrix}\n",
    "1&1&1 \\\\\n",
    "1&1&1 \\\\\n",
    "1&1&1\n",
    "\\end{pmatrix}\n",
    "\n",
    "<br/>\n",
    "\n",
    "\\begin{pmatrix}\n",
    "1 & -2 & 2 & 1 \\\\\n",
    "3 & -6 & 0 & 3 \\\\\n",
    "-2 & 4 & 0 & -2 \\\\\n",
    "5 & -10 & 0 & 5\n",
    "\\end{pmatrix}"
   ]
  },
  {
   "cell_type": "code",
   "execution_count": 8,
   "metadata": {
    "collapsed": false
   },
   "outputs": [],
   "source": [
    "B=array([[4,0,2],[0,1,0],[0,4,3]])\n",
    "D=array([[1,4,7,10],[-2,3.3,-14,0],[1,1.32,7,0.01],[0,-8,0,41]])\n",
    "F=array([[1,1,1],[1,1,1],[1,1,1]])\n",
    "G=array([[1,-2,2,1],[3,-6,0,3],[-2,4,0,-2],[5,-10,0,5]])\n"
   ]
  },
  {
   "cell_type": "markdown",
   "metadata": {},
   "source": [
    "Écrivez une fonction rang_carre qui prend en entrée une matrice carrée de taille quelconque et qui renvoie son rang."
   ]
  },
  {
   "cell_type": "code",
   "execution_count": 17,
   "metadata": {
    "collapsed": true
   },
   "outputs": [],
   "source": []
  },
  {
   "cell_type": "markdown",
   "metadata": {},
   "source": [
    "Testez la fonction sur les matrices\n",
    "\n",
    "\\begin{pmatrix}\n",
    "4 & 0 & 2 \\\\\n",
    "0 & 1 & 0 \\\\\n",
    "0 & 4 & 3\n",
    "\\end{pmatrix}\n",
    "\n",
    "<br/>\n",
    "\n",
    "\\begin{pmatrix}\n",
    "1 & 4 & 7 & 10 \\\\\n",
    "-2 & 3.3 & -14 & 0 \\\\\n",
    "1 & 1.32 & 7 & 0.01 \\\\\n",
    "0 & -8 & 0 & 41\n",
    "\\end{pmatrix}\n",
    "\n",
    "<br/>\n",
    "\n",
    "\\begin{pmatrix}\n",
    "1&1&1 \\\\\n",
    "1&1&1 \\\\\n",
    "1&1&1\n",
    "\\end{pmatrix}\n",
    "\n",
    "<br/>\n",
    "\n",
    "\\begin{pmatrix}\n",
    "1 & -2 & 2 & 1 \\\\\n",
    "3 & -6 & 0 & 3 \\\\\n",
    "-2 & 4 & 0 & -2 \\\\\n",
    "5 & -10 & 0 & 5\n",
    "\\end{pmatrix}"
   ]
  },
  {
   "cell_type": "code",
   "execution_count": 9,
   "metadata": {
    "collapsed": false
   },
   "outputs": [],
   "source": [
    "B=array([[4,0,2],[0,1,0],[0,4,3]])\n",
    "D=array([[1,4,7,10],[-2,3.3,-14,0],[1,1.32,7,0.01],[0,-8,0,41]])\n",
    "F=array([[1,1,1],[1,1,1],[1,1,1]])\n",
    "G=array([[1,-2,2,1],[3,-6,0,3],[-2,4,0,-2],[5,-10,0,5]])\n"
   ]
  },
  {
   "cell_type": "markdown",
   "metadata": {},
   "source": [
    "## Rang d'une matrice quelconque"
   ]
  },
  {
   "cell_type": "markdown",
   "metadata": {},
   "source": [
    "Écrivez une fonction list_carres qui prend en entrée une matrice rectangulaire $A$ et qui retourne la liste de toutes ses sous-matrices carrées de taille maximale, donc ayant soit même nombre de lignes, soit même nombre de colonnes que $A$."
   ]
  },
  {
   "cell_type": "code",
   "execution_count": 19,
   "metadata": {
    "collapsed": false
   },
   "outputs": [],
   "source": [
    "def list_carres(A):\n",
    "    if A.shape[0]==A.shape[1]:\n",
    "        return [A]\n",
    "    elif A.shape[0]>A.shape[1]:\n",
    "        L=[]\n",
    "        for k in range(A.shape[0]):\n",
    "            L+=list_carres(delete(A,k-1,axis=0))\n",
    "        return L\n",
    "    else:\n",
    "        L=[]\n",
    "        for k in range(A.shape[1]):\n",
    "            L+=list_carres(delete(A,k-1,axis=1))\n",
    "        return L"
   ]
  },
  {
   "cell_type": "markdown",
   "metadata": {},
   "source": [
    "Testez la fonction sur les matrices\n",
    "\n",
    "\\begin{pmatrix}\n",
    "4 & 0 & 2 \\\\\n",
    "0 & 1 & 0 \\\\\n",
    "0 & 4 & 3\n",
    "\\end{pmatrix}\n",
    "\n",
    "<br/>\n",
    "\n",
    "\\begin{pmatrix}\n",
    "1 & 4 & 7 & 10 & 3 & 0 \\\\\n",
    "-2 & 3.3 & -14 & 0 & 0 & 0 \\\\\n",
    "1 & 1.32 & 7 & 0.01 & 2 & 21 \\\\\n",
    "0 & -8 & 0 & 41 & 7.7 & -1\n",
    "\\end{pmatrix}"
   ]
  },
  {
   "cell_type": "code",
   "execution_count": 10,
   "metadata": {
    "collapsed": false
   },
   "outputs": [],
   "source": [
    "A=array([[4,0,2],[0,1,0],[0,4,3]])\n",
    "B=array([[1,4,7,10,3,0],[-2,3.3,-14,0,0,0],[1,1.32,7,0.01,2,21],[0,-8,0,41,7.7,-1]])\n"
   ]
  },
  {
   "cell_type": "markdown",
   "metadata": {},
   "source": [
    "Écrivez une fonction rang qui prend en entrée une matrice quelconque et qui renvoie son rang. Puis la tester sur les matrices définies juste au-dessus, et sur la matrice\n",
    "\n",
    "\\begin{pmatrix}\n",
    "0 & 0 & 0 & 0 & 0 & 0 \\\\\n",
    "0 & 2 & 0 & 0 & -1 & 0 \\\\\n",
    "0 & 0 & 0 & 0 & 0 & 0 \\\\\n",
    "0 & 3 & 0 & 0 & 7 & 0 \\\\\n",
    "0 & 0 & 0 & 0 & 0 & 0 \\\\\n",
    "0 & 0 & 0 & 0 & 0 & 0\n",
    "\\end{pmatrix}\n",
    "\n"
   ]
  },
  {
   "cell_type": "code",
   "execution_count": 21,
   "metadata": {
    "collapsed": true
   },
   "outputs": [],
   "source": []
  },
  {
   "cell_type": "code",
   "execution_count": 11,
   "metadata": {
    "collapsed": false
   },
   "outputs": [],
   "source": [
    "A=array([[4,0,2],[0,1,0],[0,4,3]])\n",
    "B=array([[1,4,7,10,3,0],[-2,3.3,-14,0,0,0],[1,1.32,7,0.01,2,21],[0,-8,0,41,7.7,-1]])\n",
    "C=array([[0,0,0,0,0,0],[0,2,0,0,-1,0],[0,0,0,0,0,0],[0,3,0,0,7,0],[0,0,0,0,0,0],[0,0,0,0,0,0]])\n",
    "D=array([[1,1,1],[1,1,1],[1,1,1],[1,1,1],[1,1,1]])\n"
   ]
  },
  {
   "cell_type": "code",
   "execution_count": null,
   "metadata": {
    "collapsed": false
   },
   "outputs": [],
   "source": []
  }
 ],
 "metadata": {
  "kernelspec": {
   "display_name": "Python 2",
   "language": "python",
   "name": "python2"
  },
  "language_info": {
   "codemirror_mode": {
    "name": "ipython",
    "version": 2
   },
   "file_extension": ".py",
   "mimetype": "text/x-python",
   "name": "python",
   "nbconvert_exporter": "python",
   "pygments_lexer": "ipython2",
   "version": "2.7.11"
  }
 },
 "nbformat": 4,
 "nbformat_minor": 0
}
