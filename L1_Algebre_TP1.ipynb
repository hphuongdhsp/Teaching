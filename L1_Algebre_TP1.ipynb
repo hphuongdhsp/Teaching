{
 "cells": [
  {
   "cell_type": "code",
   "execution_count": null,
   "metadata": {},
   "outputs": [],
   "source": [
    "%matplotlib inline\n",
    "from matplotlib.pyplot import *\n",
    "from numpy import *\n",
    "#from scipy import *"
   ]
  },
  {
   "cell_type": "markdown",
   "metadata": {},
   "source": [
    "# L1 Algèbre \n",
    "\n",
    "## TD n° 1 - Droites dans le plan. Application billards.\n",
    "\n",
    "### Nombres. \n",
    "On n'utilisera que les classes numériques float, par example x = 1.0 (nombres décimaux) et int (entiers relatifs), par exemple y = 2 . La seconde est contenue dans la première, de sorte que l'addition d'un entier et d'un décimal renvoie un décimal: par exemple x + y renvoie 3.0 .\n",
    "\n",
    "Les opérations $+$,$-$,$*$ sur les entiers et décimaux sont supportées. La division $/$ des décimaux l'est aussi. Attention: en Python 2 la division d'entiers renvoie le quotient euclidien : tester 1/2 et 1.0/2 ou 1/2.0 ."
   ]
  },
  {
   "cell_type": "code",
   "execution_count": null,
   "metadata": {},
   "outputs": [],
   "source": [
    "hello"
   ]
  },
  {
   "cell_type": "markdown",
   "metadata": {},
   "source": [
    "### Vecteurs et points. \n",
    "Python o\u001bffre deux types de données pouvant être naturellement utilisés pour représenter (en coordonnées) les points et vecteurs de $\\mathbb{R}^2$. Les listes - le point $p = (x, y)$ est représenté par p = [x, y], et les uplets (\u0013 tuples \u0014 en anglais), dont la syntaxe est p = (x, y) . Dans chaque cas on peut accéder à la $i$-ème coordonnée par la\n",
    "commande p[i-1] (si p = [x,y] , p[0] renvoie x et p[1] renvoie y ).\n",
    "On va utiliser le second, qui n'est pas mutable. \n",
    "\n",
    "Poser p = [0,0] , q=(2,2) et observer les di\u001bfférences de reponse entre p[0] = 1 ; p et q[0] = 1 ; q"
   ]
  },
  {
   "cell_type": "code",
   "execution_count": null,
   "metadata": {
    "scrolled": false
   },
   "outputs": [],
   "source": []
  },
  {
   "cell_type": "markdown",
   "metadata": {},
   "source": [
    "**Attention:** L'addition de vecteurs n'est pas défi\u001c",
    "nie en Python. Si l'on a deux vecteurs v\n",
    "= (v1,v2) et w = (w1,w2) , pour obtenir le vecteur (v1 + w1, v2 + w2) il faut utiliser la\n",
    "commande (v[0] + w[0], v[1] + w[1]) ( v + w est une commande légale, mais elle ne\n",
    "donne pas du tout le même résultat).\n",
    "\n",
    "Essayer les deux variantes avec v=(1,2) et w=(3,4)."
   ]
  },
  {
   "cell_type": "code",
   "execution_count": null,
   "metadata": {
    "collapsed": true
   },
   "outputs": [],
   "source": []
  },
  {
   "cell_type": "markdown",
   "metadata": {},
   "source": [
    "### Droites. \n",
    "On peut représenter une droite $D$ de $\\mathbb{R}^2$ de différentes manières:\n",
    "- comme un couple de deux points différents $(A,B)$, où $D$ est la droite passant par $A$ et $B$,\n",
    "- sous la forme d'un triplet $D = (a,b,c)$, où $ax + by + c = 0$ est une équation de $D$, \n",
    "- comme un couple $(p,v)$, où $D$ c'est la droite passant par le point $p$ et de diréction $v$.\n",
    "\n",
    "La commande plot([x1,x2],[y1,y2]) représente le ségment de la droite entre les points $(x1,y1)$ et $(x2,y2)$. On visualise bien un point $(x,y)$ avec la commande plot(x,y,'o').\n",
    "\n",
    "Représenter sur une même figure les droites suivantes dans le carré $[-3,3] \\times [-3,3]$:\n",
    "- $D_1$ passant par les points $(1,3)$ et $(-3,1)$,\n",
    "- $D_2$ d'équation $x+y+1=0$,\n",
    "- $D_3$ passant par $(0,0)$ et de diréction $(1,1)$.\n",
    "\n",
    "*Indication:* Trouver d'abord deux points au bord du cadre, puis tracer le segment entre les deux points."
   ]
  },
  {
   "cell_type": "code",
   "execution_count": null,
   "metadata": {
    "collapsed": true
   },
   "outputs": [],
   "source": []
  },
  {
   "cell_type": "markdown",
   "metadata": {},
   "source": [
    "### Exercice.\n",
    "Écrire une fonction **intersection** qui prend comme arguments un point $p$, un vecteur $v$ et une droite sous forme de triplet $(a,b,c)$ et qui renvoie le point d'intersection de la droite passant par le point $p$ et de diréction $v$ et la droite d'équation $ax + by + c = 0$. Si les deux droites sont parallèles, la fonction renvoie *None*.\n",
    "\n",
    "Représentez sur une même figure les droites et le point d'intersection donné par la fonction **intersection** pour chaqu'un des exemples suivants:\n",
    "- p=(0,0), v=(1,1), (a,b,c)=(1,1,1)\n",
    "- p=(1,0), v=(0,1), (a,b,c)=(1,0,-3)\n",
    "- p=(0,-1), v=(1,-1), (a,b,c)=(1,1,1)\n",
    "- p=(0.5,0), v=(1,1), (a,b,c)=(1,0,-1)\n",
    "- p=(0,0), v=(1,1), (a,b,c)=(1,0,0)"
   ]
  },
  {
   "cell_type": "code",
   "execution_count": null,
   "metadata": {
    "collapsed": true
   },
   "outputs": [],
   "source": []
  },
  {
   "cell_type": "markdown",
   "metadata": {},
   "source": [
    "### Exercice.\n",
    "Écrire une fonction **intersection_positive** qui prend comme arguments un point $p$, un vecteur $v$ et une droite sous forme de triplet $(a,b,c)$ et qui renvoie le point d'intersection de $p + \\mathbb{R}_+ v$ et la droite d'équation $ax + by + c = 0$ s'il existe et *None* sinon.\n",
    "\n",
    "Tester votre fonction sur les exemples de l'exercice précedent."
   ]
  },
  {
   "cell_type": "code",
   "execution_count": null,
   "metadata": {
    "collapsed": true
   },
   "outputs": [],
   "source": []
  },
  {
   "cell_type": "markdown",
   "metadata": {},
   "source": [
    "### Exercice.\n",
    "Écrire une fontion **deux_points_vers_equation** qui qui prend comme arguments deux points $X$ et $Y$ et qui renvoie le triplet $(a,b,c)$ de la droite passant par $X$ et $Y$."
   ]
  },
  {
   "cell_type": "code",
   "execution_count": null,
   "metadata": {
    "collapsed": true
   },
   "outputs": [],
   "source": []
  },
  {
   "cell_type": "markdown",
   "metadata": {},
   "source": [
    "### Exercice.\n",
    "Écrire une fonction **symetrie** qui prend comme arguments deux vecteurs $v$ et $w$ de $\\mathbb{R}^2$ et qui renvoie le vecteur symétrique de $v$ par rapport à la droite vectorielle engendrée par $w$.\n",
    "\n",
    "Tester votre fonction pour les exemples suivants:\n",
    "- v=(1,0), w=(1,1),\n",
    "- v=(1,1), w=(0,1)."
   ]
  },
  {
   "cell_type": "code",
   "execution_count": null,
   "metadata": {
    "collapsed": true
   },
   "outputs": [],
   "source": []
  },
  {
   "cell_type": "markdown",
   "metadata": {},
   "source": [
    "### Billard.\n",
    "\n",
    "Écrire une fonction **rebond** qui prend en entrée : une liste $L$ de droites (le cotés du polygone), un indice $i$ dans l'intervalle $[0,len(L)[$, un point $p$ sur la droite $D[i]$ et un vecteur non nul $v$, et qui \n",
    "- trouve $pmin$ - celle des intersections de la demi-droite $p+v\\mathbb{R}_+$ avec les cotés du polygone qui est la plus proche de $p$ (attention au cas où l'une des droites est parallèle à $v$), ainsi que l'indice $imin$ du coté du polygone où se trouve $pmin$,\n",
    "- la nouvelle direction du billard $vn$ qui est le symétrique de $v$ par rapport à $L[imin]$,\n",
    "- trace le segment entre $p$ et $pmin$.\n",
    "\n",
    "Si le billard arrive dans un sommet du polygone, **rebond** renvoie *None*. Sinon, la fonction renvoie $(imin, pmin, vmin)$.\n",
    "\n",
    "Écrire une fonction **convex_polygone_billard** prenant en entrée:\n",
    "- Un polygone $P$ sous la forme de liste de sommets consécutives, dont le premier sommet est $(0,0)$ et le premier coté est horizontal,\n",
    "- un point sur le premier coté,\n",
    "- un vecteur qui pointe vers l'intérieur du polygone,\n",
    "- un entier $n$,\n",
    "\n",
    "et qui dessine le polygone $P$ et le billard billard dans $P$ de germe $(p, v)$ à $n$ rebonds.\n"
   ]
  },
  {
   "cell_type": "code",
   "execution_count": null,
   "metadata": {
    "collapsed": true
   },
   "outputs": [],
   "source": []
  }
 ],
 "metadata": {
  "anaconda-cloud": {},
  "kernelspec": {
   "display_name": "Python 3",
   "language": "python",
   "name": "python3"
  },
  "language_info": {
   "codemirror_mode": {
    "name": "ipython",
    "version": 3
   },
   "file_extension": ".py",
   "mimetype": "text/x-python",
   "name": "python",
   "nbconvert_exporter": "python",
   "pygments_lexer": "ipython3",
   "version": "3.5.4"
  }
 },
 "nbformat": 4,
 "nbformat_minor": 1
}
