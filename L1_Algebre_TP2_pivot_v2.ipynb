{
 "cells": [
  {
   "cell_type": "markdown",
   "metadata": {},
   "source": [
    "# TP2: Pivot de Gauss\n",
    "\n",
    "Le thème de ce TP est la résolution de systèmes d'équations linéaires de la forme\n",
    "\\begin{equation*}\n",
    "Ax = b,\n",
    "\\end{equation*}\n",
    "pour une matrice $A\\in M_n(\\mathbb R)$ et un vecteur $b\\in M_{n,1}(\\mathbb R)$, par la méthode du pivot de Gauss.\n",
    "\n",
    "Nous utiliserons les librairies numpy et numpy.linalg."
   ]
  },
  {
   "cell_type": "code",
   "execution_count": 1,
   "metadata": {
    "collapsed": false
   },
   "outputs": [],
   "source": [
    "from numpy import *;\n",
    "from numpy.linalg import *;"
   ]
  },
  {
   "cell_type": "markdown",
   "metadata": {},
   "source": [
    "La librairie *numpy* introduit le type *ndarray* qui permet de faire du calcul matriciel. La commande *array* transforme une liste de listes en une matrice : pour définir la matrice $A$ on entre \n",
    "\\begin{equation*}\n",
    "A=\\text{array}([[a_{11},\\ldots,a_{1m}],\\ldots,[a_{n1},\\ldots,a_{nm}]]).\n",
    "\\end{equation*}\n",
    "Pour multiplier deux matrices de tailles adaptées on utilise la commande *dot*. Pour concaténer des matrices la commande *concatenate*.\n",
    "\n",
    "Définir les matrices\n",
    "\\begin{equation*}\n",
    "A=\\left(\n",
    "\\begin{array}{cccc}\n",
    "1 & 2 & 3 & 4 \\\\\n",
    "4 & 6 & 7 & 8 \\\\\n",
    "9 & 10 & 11 & 12\n",
    "\\end{array}\n",
    "\\right)\n",
    "\\quad\\text{et}\\quad \n",
    "B=\\left(\n",
    "\\begin{array}{cc}\n",
    "1&2\\\\\n",
    "3&4\\\\\n",
    "5&6\\\\\n",
    "7&8\n",
    "\\end{array}\n",
    "\\right),\n",
    "\\end{equation*}\n",
    "calculer le produit $AB$, et tester les commandes A[0,2], A[0,:], A[[0,2],:], B[:,1], A[2,1:], A[[0,2],:3], A[0:2,1:3], concatenate ((A,B[:3,:]),axis=1)."
   ]
  },
  {
   "cell_type": "code",
   "execution_count": null,
   "metadata": {
    "collapsed": false
   },
   "outputs": [],
   "source": []
  },
  {
   "cell_type": "markdown",
   "metadata": {},
   "source": [
    "Attention, quand on affecte une sous-matrice à une nouvelle matrice, l'espace mémoire n'est pas dupliqué. Pour dupliquer l'expace mémoire il faut créer une nouvelle matrice avec *array*. Tester la suite de commandes C=A[1,:]; C[1]=0; print A; print C, et comparer avec C=array(A[1,:]); C[1]=-1; print A; print C."
   ]
  },
  {
   "cell_type": "code",
   "execution_count": null,
   "metadata": {
    "collapsed": false
   },
   "outputs": [],
   "source": []
  },
  {
   "cell_type": "markdown",
   "metadata": {},
   "source": [
    "## Un exemple\n",
    "\n",
    "* Définir la matrice $A$ et le vecteur $b$ correspondant au système linéaire suivant :\n",
    "\\begin{equation*}\n",
    "\\left\\lbrace\n",
    "\\begin{array}{rcrcrl}\n",
    "2x_1&+&4x_2&-&x_3&= 1\\\\\n",
    "4x_1&&&-&2x_3&=0\\\\\n",
    "x_1&+&2x_2&+&x_3&=2\n",
    "\\end{array}\n",
    "\\right.\n",
    "\\end{equation*}\n",
    "\n",
    "\n",
    "Attention: Utiliser des nombres au format *float*. "
   ]
  },
  {
   "cell_type": "code",
   "execution_count": null,
   "metadata": {
    "collapsed": false
   },
   "outputs": [],
   "source": []
  },
  {
   "cell_type": "markdown",
   "metadata": {},
   "source": [
    "Résoudre le système en utilisant la méthode du pivot de Gauss: les seules opérations élémentaires autorisées sont les permutations de lignes\n",
    "\\begin{equation*}\n",
    "L_i \\leftrightarrow L_j,\n",
    "\\end{equation*}\n",
    "les dilatations de lignes\n",
    "\\begin{equation*}\n",
    "L_i \\leftarrow \\alpha L_i,\\quad \\alpha\\neq 0,\n",
    "\\end{equation*}\n",
    "et les transvections\n",
    "\\begin{equation*}\n",
    "L_i \\leftarrow L_i + \\lambda L_j,\\quad j\\neq i.\n",
    "\\end{equation*}\n",
    "\n",
    "* On définira, à l'aide de la commande concatenate, la matrice $C\\in M_{3,4}(\\mathbb R)$ dont les 3 premières colonnes correspondent à la matrice $A$, et la dernière colonne au vecteur $b$. Cette matrice $C$ représente complètement notre système linéaire.\n",
    "\n",
    "* On effectuera sur la matrice $C$ les opérations élémentaires correspondant à chaque étape : à la dernière étape, on doit arriver à une matrice de la forme\n",
    "\\begin{equation*}\n",
    "C_{sol}=\n",
    "\\left(\n",
    "\\begin{array}{cccc}\n",
    "1&0&0&\\hat b_1\\\\\n",
    "0&1&0&\\hat b_2\\\\\n",
    "0&0&1&\\hat b_3\n",
    "\\end{array}\n",
    "\\right),\n",
    "\\end{equation*}\n",
    "qui correspond au système\n",
    "\\begin{equation*}\n",
    "\\left\\lbrace\n",
    "\\begin{array}{rcrcrl}\n",
    "x_1&&&&&=\\hat b_1\\\\\n",
    "&&x_2&&&=\\hat b_2\\\\\n",
    "&&&&x_3&=\\hat b_3.\n",
    "\\end{array}\n",
    "\\right.\n",
    "\\end{equation*}\n",
    "\n",
    "* Attention: Python numérote à partir de 0."
   ]
  },
  {
   "cell_type": "code",
   "execution_count": null,
   "metadata": {
    "collapsed": false
   },
   "outputs": [],
   "source": []
  },
  {
   "cell_type": "markdown",
   "metadata": {},
   "source": [
    "## Opérations élémentaires\n",
    "\n",
    "* Créer des fonctions Perm, Dil, Trans qui prennent en argument une matrice et les paramètres d'une opération élémentaire sur les lignes, et renvoient la matrice modifiée en conséquence. Les tester sur la matrice\n",
    "\\begin{equation*}\n",
    "M=\\left(\n",
    "\\begin{array}{ccc}\n",
    "1&1&-1\\\\\n",
    "1&0&0\\\\\n",
    "2&0& 1\\\\\n",
    "3&-2&0\n",
    "\\end{array}\n",
    "\\right).\n",
    "\\end{equation*}\n"
   ]
  },
  {
   "cell_type": "code",
   "execution_count": null,
   "metadata": {
    "collapsed": false
   },
   "outputs": [],
   "source": []
  },
  {
   "cell_type": "code",
   "execution_count": null,
   "metadata": {
    "collapsed": false
   },
   "outputs": [],
   "source": []
  },
  {
   "cell_type": "markdown",
   "metadata": {},
   "source": [
    "## Résoudre un système triangulaire inversible\n",
    "\n",
    "L'algorithme du pivot de Gauss permet, en utilisant uniquement des opérations élémentaires sur les lignes, de transformer un système linéaire quelconque en un système **échelonné**. C'est-à-dire un système qui s'écrit sous la forme\n",
    "$$Ex=b,$$\n",
    "où la matrice $E$ est telle que : quand on passe d'une ligne à la suivante, le nombre de zéros en début de ligne augmente strictement. Une fois le système mis sous cette forme, il devient relativement facile à résoudre, en utilisant seulement des transvections sur les lignes.\n",
    "\n",
    "Dans le cas d'une matrice carrée inversible, un système échelonné correspond à une matrice triangulaire supérieure dont tous les éléments diagonaux sont non nuls -- par exemple égaux à 1, quitte à dilater les lignes :\n",
    "\\begin{equation*}\n",
    "E=\\left(\n",
    "\\begin{array}{ccc}\n",
    "1&&(e_{ij})\\\\\n",
    "&\\ddots & \\\\\n",
    "(0)&& 1\n",
    "\\end{array}\n",
    "\\right)\n",
    "\\end{equation*}\n"
   ]
  },
  {
   "cell_type": "markdown",
   "metadata": {},
   "source": [
    "* Ecrire une fonction SolTriang qui prend en argument une matrice dont les $n$ premières colonnes (où $n$ est le nombre de lignes) forment une matrice $E$ triangulaire supérieure avec des 1 sur sa diagonale, et qui renvoie la matrice modifiée par la suite de transvections permettant de transformer $E$ en la matrice identité. La tester en résolvant les systèmes\n",
    "\\begin{align*}\n",
    "&\\left\\lbrace\n",
    "\\begin{array}{rcrcrl}\n",
    "x_1 & + & x_2 &- &2 x_3 & =0\\\\\n",
    "&&x_2 &+&3x_3&=-1\\\\\n",
    "&&&&x_3&=1\n",
    "\\end{array}\n",
    "\\right.\\\\\n",
    "&\\left\\lbrace\n",
    "\\begin{array}{rcrcrcrl}\n",
    "x_1&-&2x_2&+&x_3&+&5x_4&=2\\\\\n",
    "&&x_2&+&3x_3&-&x_4&=0\\\\\n",
    "&&&&x_3&+&4x_4&=1\\\\\n",
    "&&&&&&x_4&=-1\n",
    "\\end{array}\n",
    "\\right.\n",
    "\\end{align*}"
   ]
  },
  {
   "cell_type": "code",
   "execution_count": 14,
   "metadata": {
    "collapsed": true
   },
   "outputs": [],
   "source": []
  },
  {
   "cell_type": "code",
   "execution_count": 15,
   "metadata": {
    "collapsed": false
   },
   "outputs": [
    {
     "name": "stdout",
     "output_type": "stream",
     "text": [
      "[[ 1  1 -2  0]\n",
      " [ 0  1  3 -1]\n",
      " [ 0  0  1  1]]\n",
      "[[ 1.  0.  0.  6.]\n",
      " [ 0.  1.  0. -4.]\n",
      " [ 0.  0.  1.  1.]]\n"
     ]
    }
   ],
   "source": []
  },
  {
   "cell_type": "code",
   "execution_count": 16,
   "metadata": {
    "collapsed": false
   },
   "outputs": [
    {
     "name": "stdout",
     "output_type": "stream",
     "text": [
      "[[ 1. -2.  1.  5.  2.]\n",
      " [ 0.  1.  3. -1.  0.]\n",
      " [ 0.  0.  1.  4.  1.]\n",
      " [ 0.  0.  0.  1. -1.]]\n",
      "[[  1.   0.   0.   0. -30.]\n",
      " [  0.   1.   0.   0. -16.]\n",
      " [  0.   0.   1.   0.   5.]\n",
      " [  0.   0.   0.   1.  -1.]]\n"
     ]
    }
   ],
   "source": []
  },
  {
   "cell_type": "markdown",
   "metadata": {},
   "source": [
    "## Choix d'un pivot\n",
    "\n",
    "On définit une fonction ChoixPivot qui prend en argument une matrice, trouve dans sa première colonne un élément non nul, puis permute et dilate des lignes pour renvoyer une matrice modifiée dans laquelle le pivot est en première ligne et égal à 1. Si ce n'est pas possible, la fonction affiche un message d'erreur et renvoie None. \n",
    "\n",
    "La tester sur la matrice $A$ du début de l'énoncé, et sur les matrices \n",
    "\\begin{equation*}\n",
    "\\left(\\begin{array}{cccc}\n",
    "0&0&1&0\\\\\n",
    "1&0&0&1\\\\\n",
    "2&1&3&0\n",
    "\\end{array}\n",
    "\\right),\n",
    "\\qquad\n",
    "\\left(\\begin{array}{ccc}\n",
    "0&1&0\\\\\n",
    "0&0&2\n",
    "\\end{array}\n",
    "\\right).\n",
    "\\end{equation*}"
   ]
  },
  {
   "cell_type": "code",
   "execution_count": 17,
   "metadata": {
    "collapsed": false
   },
   "outputs": [],
   "source": [
    "\n",
    "        "
   ]
  },
  {
   "cell_type": "code",
   "execution_count": null,
   "metadata": {
    "collapsed": false
   },
   "outputs": [],
   "source": []
  },
  {
   "cell_type": "markdown",
   "metadata": {},
   "source": [
    "## Etape de pivot\n",
    "\n",
    "Définir une fonction EtapePivot qui prend en argument une matrice dont le premier coefficient de la première colonne est égal à 1 (car on lui aura préalablement appliqué la fonction ChoixPivot), qui effectue les transvections nécessaires pour annuler tous les autres coefficients de la première colonne, et qui renvoie la matrice ainsi obtenue.\n",
    "\n",
    "La tester sur la matrice $A$ du début de l'énoncé (après application de ChoixPivot).\n"
   ]
  },
  {
   "cell_type": "code",
   "execution_count": 19,
   "metadata": {
    "collapsed": false
   },
   "outputs": [],
   "source": []
  },
  {
   "cell_type": "code",
   "execution_count": null,
   "metadata": {
    "collapsed": false
   },
   "outputs": [],
   "source": []
  },
  {
   "cell_type": "markdown",
   "metadata": {},
   "source": [
    "## Transformation en un système triangulaire inversible\n",
    "\n",
    "Définir de manière récursive une fonction TriangPivot qui prend en argument une matrice correspondant à un système inversible (i.e. les $n$ premières colonnes, où $n$ est le nombre de lignes, forment une matrice carrée inversible) et renvoie une matrice correspondant à un système triangulaire supérieur avec des 1 sur la diagonale, obtenue par une suite d'opérations élémentaires. Si le système n'est pas inversible, la fonction renvoie un message d'erreur."
   ]
  },
  {
   "cell_type": "code",
   "execution_count": null,
   "metadata": {
    "collapsed": false
   },
   "outputs": [],
   "source": []
  },
  {
   "cell_type": "markdown",
   "metadata": {},
   "source": [
    "## Résolution d'un système inversible et calcul d'inverse\n",
    "\n",
    "* Ecrire, en utilisant les fonctions TriangPivot et SolTriang, une fonction Sol qui prend en argument une matrice correspondant à un système inversible, et qui renvoie la matrice correspondant à la dernière étape du pivot de Gauss, dans laquelle la solution se lit sur la dernière colonne. La tester sur l'exemple du début.\n",
    "\n",
    "* Comment utiliser cette fonction pour calculer l'inverse d'une matrice inversible?\n",
    "\n",
    "* On pourra comparer les résultats avec les fonctions solve et inv de numpy.linalg."
   ]
  },
  {
   "cell_type": "code",
   "execution_count": null,
   "metadata": {
    "collapsed": false
   },
   "outputs": [],
   "source": [
    "\n"
   ]
  },
  {
   "cell_type": "markdown",
   "metadata": {},
   "source": [
    "## Retour sur le choix du pivot\n",
    "\n",
    "Ecrire une fonction ChoixPivotMax qui fait la même chose que la fonction ChoixPivot, mais en choisissant comme pivot l'élément de valeur absolue maximale.\n",
    "On pourra utiliser les fonctions *abs* et *max*. Il pourra être utile de transformer la première colonne en liste (list) pour pouvoir utiliser l'attribut list.index."
   ]
  },
  {
   "cell_type": "code",
   "execution_count": null,
   "metadata": {
    "collapsed": true
   },
   "outputs": [],
   "source": []
  },
  {
   "cell_type": "markdown",
   "metadata": {},
   "source": [
    "Ecrire les fonctions TriangPivotMax et SolMax correspondantes, et les tester sur le système\n",
    "\\begin{equation*}\n",
    "\\left\\lbrace\n",
    "\\begin{array}{rcrcrcrl}\n",
    "x & + & 2y & + & 5z &+& 4t& =1\\\\\n",
    "6x & +& 8y&-&5z&+&6t&=2\\\\\n",
    "-5x&+&7y&+&z&+&6t&=3\\\\\n",
    "3x&+&4y&+&7z&+&8t&=4.\n",
    "\\end{array}\n",
    "\\right.\n",
    "\\end{equation*}\n",
    "Comparer avec TriangPivot et Sol."
   ]
  },
  {
   "cell_type": "code",
   "execution_count": null,
   "metadata": {
    "collapsed": true
   },
   "outputs": [],
   "source": []
  },
  {
   "cell_type": "markdown",
   "metadata": {},
   "source": [
    "## Le pivot de Gauss dans le cas général\n",
    "\n",
    "*Cette question est difficile et facultative*\n",
    "\n",
    "Ecrire une fonction  qui applique l'algorithme du pivot de Gauss pour donner toutes les solutions d'un système d'équations linéaires quelconque (pas nécessairement carré, ni inversible)."
   ]
  },
  {
   "cell_type": "code",
   "execution_count": null,
   "metadata": {
    "collapsed": false
   },
   "outputs": [],
   "source": []
  },
  {
   "cell_type": "code",
   "execution_count": null,
   "metadata": {
    "collapsed": true
   },
   "outputs": [],
   "source": []
  }
 ],
 "metadata": {
  "anaconda-cloud": {},
  "kernelspec": {
   "display_name": "Python 2",
   "language": "python",
   "name": "python2"
  },
  "language_info": {
   "codemirror_mode": {
    "name": "ipython",
    "version": 2
   },
   "file_extension": ".py",
   "mimetype": "text/x-python",
   "name": "python",
   "nbconvert_exporter": "python",
   "pygments_lexer": "ipython2",
   "version": "2.7.11"
  }
 },
 "nbformat": 4,
 "nbformat_minor": 1
}
